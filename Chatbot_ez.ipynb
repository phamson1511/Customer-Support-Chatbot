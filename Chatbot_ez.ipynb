{
 "cells": [
  {
   "cell_type": "code",
   "execution_count": 1,
   "metadata": {
    "colab": {
     "base_uri": "https://localhost:8080/"
    },
    "executionInfo": {
     "elapsed": 137863,
     "status": "ok",
     "timestamp": 1745767215922,
     "user": {
      "displayName": "Tiến Phát Bùi",
      "userId": "08833890692737547161"
     },
     "user_tz": -420
    },
    "id": "g6n5FCou0L5Q",
    "outputId": "397becc4-98b2-4756-d7ff-4cb3e7c8b1b3"
   },
   "outputs": [],
   "source": [
    "!pip install -Uq langchain-community langchain-openai langchain-chroma langchain langgraph tavily-python langchain-huggingface langchain-tavily gradio langchain-groq google-generativeai"
   ]
  },
  {
   "cell_type": "code",
   "execution_count": 2,
   "metadata": {
    "executionInfo": {
     "elapsed": 66,
     "status": "ok",
     "timestamp": 1745767699377,
     "user": {
      "displayName": "Tiến Phát Bùi",
      "userId": "08833890692737547161"
     },
     "user_tz": -420
    },
    "id": "jfviwfp003VU"
   },
   "outputs": [],
   "source": [
    "from langchain_core.prompts import ChatPromptTemplate\n",
    "from langchain_openai import ChatOpenAI\n",
    "from pydantic import BaseModel, Field\n",
    "import google.generativeai as genai"
   ]
  },
  {
   "cell_type": "code",
   "execution_count": null,
   "metadata": {
    "colab": {
     "base_uri": "https://localhost:8080/"
    },
    "executionInfo": {
     "elapsed": 50586,
     "status": "ok",
     "timestamp": 1745767815189,
     "user": {
      "displayName": "Tiến Phát Bùi",
      "userId": "08833890692737547161"
     },
     "user_tz": -420
    },
    "id": "Q_XupbU23RJ7",
    "outputId": "e59aebd1-f97c-4623-d0ce-1bc78be69601"
   },
   "outputs": [],
   "source": [
    "import os\n",
    "import getpass\n",
    "\n",
    "\n",
    "if \"GOOGLE_API_KEY\" not in os.environ:\n",
    "    os.environ[\"GOOGLE_API_KEY\"] = getpass.getpass(\"GOOGLE_API_KEY:\")\n",
    "    #https://aistudio.google.com/api-keys"
   ]
  },
  {
   "cell_type": "code",
   "execution_count": 4,
   "metadata": {
    "executionInfo": {
     "elapsed": 698,
     "status": "ok",
     "timestamp": 1745767884781,
     "user": {
      "displayName": "Tiến Phát Bùi",
      "userId": "08833890692737547161"
     },
     "user_tz": -420
    },
    "id": "0f-PQ5uQ3hGB"
   },
   "outputs": [],
   "source": [
    "from langchain_google_genai import ChatGoogleGenerativeAI\n",
    "genai.configure(api_key=os.environ[\"GOOGLE_API_KEY\"])\n",
    "gemini_model = genai.GenerativeModel(\"gemini-2.5-flash\")\n",
    "llm = ChatGoogleGenerativeAI(model=\"gemini-2.5-flash\", temperature=0)\n"
   ]
  },
  {
   "cell_type": "markdown",
   "metadata": {
    "id": "g_PfxReg4DeV"
   },
   "source": [
    "# Retrive tool"
   ]
  },
  {
   "cell_type": "code",
   "execution_count": 5,
   "metadata": {
    "executionInfo": {
     "elapsed": 14,
     "status": "ok",
     "timestamp": 1745767940315,
     "user": {
      "displayName": "Tiến Phát Bùi",
      "userId": "08833890692737547161"
     },
     "user_tz": -420
    },
    "id": "PFm2RRcG3-RF"
   },
   "outputs": [],
   "source": [
    "from langchain_core.documents import Document"
   ]
  },
  {
   "cell_type": "code",
   "execution_count": 6,
   "metadata": {
    "executionInfo": {
     "elapsed": 6,
     "status": "ok",
     "timestamp": 1745768015822,
     "user": {
      "displayName": "Tiến Phát Bùi",
      "userId": "08833890692737547161"
     },
     "user_tz": -420
    },
    "id": "DVHlaS2V4L_j"
   },
   "outputs": [],
   "source": [
    "folder_path = r\"c:\\Users\\admin\\Desktop\\LLM\\personal_chatbot_ez\"\n",
    "documents = []"
   ]
  },
  {
   "cell_type": "code",
   "execution_count": 7,
   "metadata": {
    "executionInfo": {
     "elapsed": 1302,
     "status": "ok",
     "timestamp": 1745768180194,
     "user": {
      "displayName": "Tiến Phát Bùi",
      "userId": "08833890692737547161"
     },
     "user_tz": -420
    },
    "id": "G3DZcuFo4ebA"
   },
   "outputs": [],
   "source": [
    "for filename in os.listdir(folder_path):\n",
    "  if filename.endswith('.txt'):\n",
    "    full_path = os.path.join(folder_path, filename)\n",
    "    with open(full_path, 'r', encoding='utf-8') as file:\n",
    "      content = file.read()\n",
    "      documents.append(\n",
    "          Document(\n",
    "              page_content=content,\n",
    "              metadata= {\n",
    "                  'source': full_path\n",
    "              }\n",
    "          )\n",
    "      )"
   ]
  },
  {
   "cell_type": "code",
   "execution_count": 8,
   "metadata": {},
   "outputs": [
    {
     "data": {
      "text/plain": [
       "Document(metadata={'source': 'c:\\\\Users\\\\admin\\\\Desktop\\\\LLM\\\\personal_chatbot_ez\\\\CHÍNH SÁCH BẢO MẬT.txt'}, page_content='🛡️ CHÍNH SÁCH BẢO MẬT\\nCÔNG TY X\\n\\n1. Giới thiệu chung\\nChính sách bảo mật này được ban hành bởi Công ty X (“chúng tôi” hoặc “Công ty”) nhằm quy định cách thức thu thập, sử dụng, lưu trữ và bảo vệ thông tin cá nhân (“dữ liệu”) của người dùng khi tương tác với chatbot, dịch vụ và hệ thống của Công ty.\\n\\nChúng tôi cam kết bảo vệ quyền riêng tư của bạn và đảm bảo rằng dữ liệu cá nhân được xử lý một cách an toàn và minh bạch, phù hợp với quy định pháp luật hiện hành.\\n\\n2. Phạm vi áp dụng\\nChính sách này áp dụng cho tất cả người dùng chatbot Công ty X, bao gồm nhưng không giới hạn:\\n\\nNhân viên nội bộ\\n\\nĐối tác kinh doanh\\n\\nKhách hàng sử dụng dịch vụ\\n\\nBên thứ ba có liên quan\\n\\nChatbot được vận hành trên nền tảng nội bộ, website chính thức, ứng dụng di động và các kênh giao tiếp trực tuyến khác do Công ty sở hữu hoặc kiểm soát.\\n\\n3. Thu thập dữ liệu người dùng\\nChúng tôi thu thập dữ liệu người dùng thông qua các cách sau:\\n\\n3.1. Thông tin người dùng cung cấp:\\nHọ tên, chức danh\\n\\nEmail, số điện thoại\\n\\nThông tin công ty, phòng ban\\n\\nNội dung trao đổi trong hội thoại chatbot\\n\\n3.2. Dữ liệu hệ thống ghi nhận:\\nĐịa chỉ IP\\n\\nThời gian truy cập\\n\\nLoại thiết bị, trình duyệt\\n\\nCác tệp đính kèm hoặc tài liệu gửi qua chatbot (nếu có)\\n\\n3.3. Dữ liệu tự động thu thập:\\nCookies, session ID\\n\\nThông tin hành vi duyệt web (nếu chatbot tích hợp web tracking)\\n\\nChúng tôi không thu thập các thông tin nhạy cảm (ví dụ: số thẻ tín dụng, số CMND/CCCD) qua chatbot, trừ khi có thông báo riêng biệt và sự đồng ý rõ ràng của người dùng.\\n\\n4. Mục đích sử dụng dữ liệu\\nDữ liệu thu thập sẽ được sử dụng cho các mục đích sau:\\n\\nHỗ trợ giải đáp thắc mắc và yêu cầu của người dùng\\n\\nCải thiện chất lượng hội thoại và trải nghiệm chatbot\\n\\nCung cấp thông tin về sản phẩm, dịch vụ của Công ty\\n\\nPhân tích và báo cáo nội bộ nhằm nâng cao hiệu quả dịch vụ\\n\\nĐảm bảo an toàn, ngăn chặn hành vi gian lận và sử dụng trái phép\\n\\nChúng tôi không sử dụng dữ liệu cho mục đích quảng cáo bên ngoài nếu không có sự đồng ý riêng biệt.\\n\\n5. Lưu trữ và bảo vệ dữ liệu\\n5.1. Phương thức lưu trữ:\\nDữ liệu được lưu trữ trên hệ thống máy chủ của Công ty hoặc các đối tác lưu trữ đạt chứng chỉ bảo mật quốc tế như ISO 27001.\\n\\n5.2. Thời gian lưu trữ:\\nDữ liệu sẽ được lưu trữ trong thời gian cần thiết để thực hiện các mục đích nêu trên hoặc theo quy định của pháp luật.\\n\\n5.3. Biện pháp bảo mật:\\nMã hóa dữ liệu khi truyền tải và lưu trữ\\n\\nHạn chế truy cập nội bộ theo nguyên tắc \"cần biết\"\\n\\nGiám sát hệ thống liên tục 24/7\\n\\nKiểm tra bảo mật định kỳ (pentest, vulnerability scan)\\n\\n6. Quyền truy cập và chỉnh sửa thông tin\\nNgười dùng có quyền:\\n\\nYêu cầu truy cập dữ liệu cá nhân\\n\\nYêu cầu chỉnh sửa dữ liệu sai lệch\\n\\nYêu cầu xoá dữ liệu không cần thiết\\n\\nYêu cầu hạn chế xử lý dữ liệu\\n\\nĐể thực hiện quyền lợi này, người dùng vui lòng liên hệ qua địa chỉ email được cung cấp ở cuối tài liệu.\\n\\n7. Chia sẻ thông tin với bên thứ ba\\nChúng tôi chỉ chia sẻ dữ liệu với bên thứ ba trong các trường hợp:\\n\\nĐược sự đồng ý của người dùng\\n\\nĐối tác cung cấp dịch vụ kỹ thuật, lưu trữ\\n\\nTuân thủ yêu cầu pháp lý, cơ quan nhà nước có thẩm quyền\\n\\nChúng tôi yêu cầu các bên thứ ba cam kết tuân thủ chính sách bảo mật tương đương.\\n\\n8. Chính sách Cookie và Tracking\\nChatbot và hệ thống của Công ty có thể sử dụng Cookies để:\\n\\nGhi nhớ phiên làm việc\\n\\nPhân tích hành vi người dùng\\n\\nCải thiện hiệu suất dịch vụ\\n\\nNgười dùng có thể tùy chỉnh trình duyệt để từ chối hoặc xóa cookies bất cứ lúc nào.\\n\\n9. Bảo mật hệ thống\\nChúng tôi áp dụng các nguyên tắc bảo mật toàn diện:\\n\\nPhân tách môi trường test – production\\n\\nQuản lý khóa mã hóa (key management)\\n\\nChính sách an toàn mật khẩu\\n\\nKiểm soát truy cập mạng nội bộ và VPN\\n\\nChính sách cập nhật và vá lỗi định kỳ\\n\\n10. Xử lý rủi ro vi phạm dữ liệu\\nTrong trường hợp phát hiện rò rỉ hoặc vi phạm dữ liệu:\\n\\nCông ty sẽ điều tra và khắc phục trong vòng 72 giờ\\n\\nThông báo cho người bị ảnh hưởng (nếu cần thiết)\\n\\nBáo cáo cơ quan quản lý theo đúng quy định\\n\\n11. Quyền lợi và trách nhiệm người dùng\\nNgười dùng có quyền:\\n\\nĐược thông báo rõ ràng về việc thu thập và sử dụng dữ liệu\\n\\nTự do từ chối cung cấp thông tin (có thể ảnh hưởng đến dịch vụ)\\n\\nKhiếu nại nếu cảm thấy dữ liệu bị xử lý sai quy định\\n\\nNgười dùng có trách nhiệm:\\n\\nCung cấp thông tin chính xác\\n\\nKhông chia sẻ thông tin nhạy cảm khi không cần thiết\\n\\n12. Thay đổi chính sách\\nChính sách này có thể được cập nhật theo thời gian. Chúng tôi sẽ thông báo bằng cách:\\n\\nGửi email\\n\\nThông báo trên hệ thống chatbot hoặc website\\n\\nPhiên bản cập nhật sẽ ghi rõ ngày hiệu lực mới.\\n\\n13. Điều khoản riêng đối với Chatbot AI\\nNếu chatbot sử dụng trí tuệ nhân tạo:\\n\\nCâu trả lời mang tính hỗ trợ, không thay thế tư vấn chuyên môn\\n\\nDữ liệu huấn luyện tuân thủ nguyên tắc bảo mật\\n\\nLuồng trò chuyện có thể được kiểm duyệt tự động nhằm đảm bảo an toàn\\n\\n14. Giải quyết khiếu nại\\nNếu có bất kỳ khiếu nại nào liên quan đến việc thu thập và xử lý dữ liệu:\\n\\nNgười dùng có thể gửi khiếu nại qua email [email@example.com]\\n\\nCông ty sẽ phản hồi trong vòng 15 ngày làm việc\\n\\n15. Liên hệ\\nCông ty X\\nPhòng Pháp lý và Tuân thủ\\nEmail: [email@example.com]\\nĐiện thoại: [Phone number]\\nWebsite: [Website URL]\\n\\n16. Định nghĩa thuật ngữ\\n\\nThuật ngữ\\tĐịnh nghĩa\\nCookie\\tTệp dữ liệu nhỏ lưu trữ trên thiết bị người dùng\\nDữ liệu cá nhân\\tThông tin nhận dạng cá nhân như tên, email, số điện thoại\\nChatbot\\tỨng dụng phần mềm tự động tương tác với người dùng\\n17. Các cam kết bổ sung\\nKhông thu thập dữ liệu ngoài phạm vi khai báo.\\n\\nKhông bán hoặc cho thuê dữ liệu cá nhân.\\n\\nCam kết khắc phục kịp thời nếu phát hiện vi phạm.\\n\\n18. Điều khoản khác\\nChính sách này được điều chỉnh theo pháp luật Việt Nam.\\n\\nTrong trường hợp có sự khác biệt giữa các ngôn ngữ, bản tiếng Việt sẽ được ưu tiên áp dụng.')"
      ]
     },
     "execution_count": 8,
     "metadata": {},
     "output_type": "execute_result"
    }
   ],
   "source": [
    "documents[0]"
   ]
  },
  {
   "cell_type": "code",
   "execution_count": 9,
   "metadata": {
    "executionInfo": {
     "elapsed": 6,
     "status": "ok",
     "timestamp": 1745768311320,
     "user": {
      "displayName": "Tiến Phát Bùi",
      "userId": "08833890692737547161"
     },
     "user_tz": -420
    },
    "id": "BD9bMTnS5HsG"
   },
   "outputs": [
    {
     "name": "stderr",
     "output_type": "stream",
     "text": [
      "C:\\Users\\admin\\AppData\\Local\\Temp\\ipykernel_27004\\882076711.py:1: DeprecationWarning: module 'sre_constants' is deprecated\n",
      "  from sre_constants import CH_UNICODE\n"
     ]
    }
   ],
   "source": [
    "from sre_constants import CH_UNICODE\n",
    "from langchain_text_splitters import RecursiveCharacterTextSplitter\n",
    "\n",
    "text_splitter = RecursiveCharacterTextSplitter(\n",
    "    chunk_size=1200,\n",
    "    chunk_overlap=200\n",
    ")"
   ]
  },
  {
   "cell_type": "code",
   "execution_count": 10,
   "metadata": {
    "executionInfo": {
     "elapsed": 12,
     "status": "ok",
     "timestamp": 1745768332712,
     "user": {
      "displayName": "Tiến Phát Bùi",
      "userId": "08833890692737547161"
     },
     "user_tz": -420
    },
    "id": "0y8SKgbS5ir_"
   },
   "outputs": [],
   "source": [
    "all_splits = text_splitter.split_documents(documents)"
   ]
  },
  {
   "cell_type": "code",
   "execution_count": 11,
   "metadata": {
    "colab": {
     "base_uri": "https://localhost:8080/"
    },
    "executionInfo": {
     "elapsed": 17,
     "status": "ok",
     "timestamp": 1745768340780,
     "user": {
      "displayName": "Tiến Phát Bùi",
      "userId": "08833890692737547161"
     },
     "user_tz": -420
    },
    "id": "a_1okZNr5ry1",
    "outputId": "e0354bff-2364-4df2-ea3a-0d67601ee910"
   },
   "outputs": [
    {
     "data": {
      "text/plain": [
       "Document(metadata={'source': 'c:\\\\Users\\\\admin\\\\Desktop\\\\LLM\\\\personal_chatbot_ez\\\\CHÍNH SÁCH BẢO MẬT.txt'}, page_content='🛡️ CHÍNH SÁCH BẢO MẬT\\nCÔNG TY X\\n\\n1. Giới thiệu chung\\nChính sách bảo mật này được ban hành bởi Công ty X (“chúng tôi” hoặc “Công ty”) nhằm quy định cách thức thu thập, sử dụng, lưu trữ và bảo vệ thông tin cá nhân (“dữ liệu”) của người dùng khi tương tác với chatbot, dịch vụ và hệ thống của Công ty.\\n\\nChúng tôi cam kết bảo vệ quyền riêng tư của bạn và đảm bảo rằng dữ liệu cá nhân được xử lý một cách an toàn và minh bạch, phù hợp với quy định pháp luật hiện hành.\\n\\n2. Phạm vi áp dụng\\nChính sách này áp dụng cho tất cả người dùng chatbot Công ty X, bao gồm nhưng không giới hạn:\\n\\nNhân viên nội bộ\\n\\nĐối tác kinh doanh\\n\\nKhách hàng sử dụng dịch vụ\\n\\nBên thứ ba có liên quan\\n\\nChatbot được vận hành trên nền tảng nội bộ, website chính thức, ứng dụng di động và các kênh giao tiếp trực tuyến khác do Công ty sở hữu hoặc kiểm soát.\\n\\n3. Thu thập dữ liệu người dùng\\nChúng tôi thu thập dữ liệu người dùng thông qua các cách sau:\\n\\n3.1. Thông tin người dùng cung cấp:\\nHọ tên, chức danh\\n\\nEmail, số điện thoại\\n\\nThông tin công ty, phòng ban\\n\\nNội dung trao đổi trong hội thoại chatbot\\n\\n3.2. Dữ liệu hệ thống ghi nhận:\\nĐịa chỉ IP\\n\\nThời gian truy cập\\n\\nLoại thiết bị, trình duyệt')"
      ]
     },
     "execution_count": 11,
     "metadata": {},
     "output_type": "execute_result"
    }
   ],
   "source": [
    "all_splits[0]"
   ]
  },
  {
   "cell_type": "code",
   "execution_count": 12,
   "metadata": {
    "executionInfo": {
     "elapsed": 40,
     "status": "ok",
     "timestamp": 1745768397754,
     "user": {
      "displayName": "Tiến Phát Bùi",
      "userId": "08833890692737547161"
     },
     "user_tz": -420
    },
    "id": "2Xb2i-BU5twz"
   },
   "outputs": [],
   "source": [
    "from langchain_chroma import Chroma\n",
    "from langchain_huggingface import HuggingFaceEmbeddings"
   ]
  },
  {
   "cell_type": "code",
   "execution_count": null,
   "metadata": {
    "colab": {
     "base_uri": "https://localhost:8080/",
     "height": 342,
     "referenced_widgets": [
      "362e0355d3104cb8beabd334dae185cc",
      "5fdf2d6ed05347efa261797c5170e241",
      "431b9eb6aa1f413e940f57756582ff1d",
      "3c55793454d84fe09ec9d0dd24eed1e8",
      "3e399f6738a84ac7b3aaaf359eef8bd8",
      "6b8369226630480da5818e608c35f586",
      "e8495bf48ff447f5a63219b0290ef765",
      "38d6c93880134b3ca2777e17c86d356e",
      "d17356c457ca4da99aaf592dc63fb5b4",
      "5f5049f043fe4d10a21b8c5d76efa358",
      "f4a83a6da0064305b204aa4a1bd9c86a",
      "25e0cb305b604a8b871563e19147b5cc",
      "adbc4b6cdbe4491da6e1cdf362401d5b",
      "3b3769b219f54e159ded72cbdf90d3e7",
      "647652586b2e488ba24f99b2c95c0685",
      "5dcbff8be87b448a90887a53ec671cfc",
      "4f05246f8d5949628f121672688baba9",
      "2a1b27303b094926b6b732a2edd89a91",
      "1e8448bec7cd49a889e35a990a2b75b5",
      "3a5c639951ba48e4adc50937387f24cf",
      "3fbfba89c0d249ea9fe8dd65848a61ac",
      "c2947284ce8d46b9879eee73a23b3902",
      "56140a61acd64dfa8550b63a4af237d3",
      "d4e94d221f1e4a4a99160da096b537c5",
      "a24e95c9a8b444c5aa90811517396afe",
      "f722651c79b7482ca1d51727cf7e0f91",
      "d9be52c6c8044dbb97f7dd236642b380",
      "1a109626f07e469f9765556118452d24",
      "b8e12dd37c3c441bbb8f6aecc7246b9a",
      "4387831b514645bfb23b35675e1af2bd",
      "66dc7061badb4fa6bb89b9961f2cb580",
      "81e5dde98a8845c9911ffd33b0ceb870",
      "e6f26817151243d0894d0df10955be35",
      "571573967c5a49358b4daf3a6b2101bb",
      "5009016cb6b546b69c81f00f2b0f4956",
      "5902369f0757483dafed2ee0e702a28b",
      "a919b905902b4d9992479de0a4af4e9b",
      "400fa87026914a8eac95c486964aa2b1",
      "6980ece35f2245a893e4196313e34854",
      "10ba44afa6bb48ba8f94ae6db1ca428c",
      "f914a18c2dff4809bf67e0bd55b9c740",
      "54d805e1cc2f4cfe929d540fe2dd66e4",
      "b19723be903b400ab796999afbf809c4",
      "e27b0e247abb406b9c8e311ef37b88a9",
      "9ef6d8274c384db486cd9fe1f264c41d",
      "0c3fe6ee9b9e42eaa3b3fb4557ab5201",
      "b959c649934e436bac71845354673608",
      "f8ac7101587e4070b2e9a64b2d58d674",
      "044ffbb45d7f4102acb17a0a0a8f3779",
      "1e95b4d13bec47f7b1534b09a62ee9bb",
      "ff5391134a674525a1393c24aa6180e6",
      "863c26f082314e7a88e9a7a92d21b1a1",
      "f5fbbff043b2408cbac17e98311b9b11",
      "e566bd1a304748be9882252e36f6ed19",
      "4cc702d02df546e78b21bb54ddc7c5c6"
     ]
    },
    "executionInfo": {
     "elapsed": 41262,
     "status": "ok",
     "timestamp": 1745768561593,
     "user": {
      "displayName": "Tiến Phát Bùi",
      "userId": "08833890692737547161"
     },
     "user_tz": -420
    },
    "id": "cZ3tFpcY57qi",
    "outputId": "a27069e3-5766-4f4a-dc4a-e6da7ceefb37"
   },
   "outputs": [],
   "source": [
    "model_name = \"sentence-transformers/static-similarity-mrl-multilingual-v1\"\n",
    "model_kwargs = {'device': 'cpu'}\n",
    "encode_kwargs = {'normalize_embeddings': False}\n",
    "\n",
    "hf_embedding = HuggingFaceEmbeddings(\n",
    "    model_name=model_name,\n",
    "    model_kwargs=model_kwargs,\n",
    "    encode_kwargs=encode_kwargs\n",
    ")"
   ]
  },
  {
   "cell_type": "code",
   "execution_count": null,
   "metadata": {
    "executionInfo": {
     "elapsed": 1354,
     "status": "ok",
     "timestamp": 1745768600694,
     "user": {
      "displayName": "Tiến Phát Bùi",
      "userId": "08833890692737547161"
     },
     "user_tz": -420
    },
    "id": "TcOAmroK6ZmX"
   },
   "outputs": [],
   "source": [
    "vectorstores = Chroma.from_documents(\n",
    "    documents=all_splits,\n",
    "    embedding=hf_embedding,\n",
    "    # persist_directory=\"./db\"\n",
    ")"
   ]
  },
  {
   "cell_type": "code",
   "execution_count": null,
   "metadata": {
    "executionInfo": {
     "elapsed": 36,
     "status": "ok",
     "timestamp": 1745768637712,
     "user": {
      "displayName": "Tiến Phát Bùi",
      "userId": "08833890692737547161"
     },
     "user_tz": -420
    },
    "id": "rPeAlWVy6s4-"
   },
   "outputs": [],
   "source": [
    "retriver = vectorstores.similarity_search(\n",
    "    \"Quy định công ty là gì?\", k = 4\n",
    ")"
   ]
  },
  {
   "cell_type": "code",
   "execution_count": null,
   "metadata": {
    "colab": {
     "base_uri": "https://localhost:8080/"
    },
    "executionInfo": {
     "elapsed": 28,
     "status": "ok",
     "timestamp": 1745768648081,
     "user": {
      "displayName": "Tiến Phát Bùi",
      "userId": "08833890692737547161"
     },
     "user_tz": -420
    },
    "id": "1OcC67jd62P6",
    "outputId": "0f7bd7da-e997-4b46-e593-0daafb56a1a0"
   },
   "outputs": [
    {
     "data": {
      "text/plain": [
       "[Document(id='6106ffcb-c0f5-4cad-81d2-e62a4b7b2dc5', metadata={'source': 'c:\\\\Users\\\\admin\\\\Desktop\\\\LLM\\\\personal_chatbot_ez\\\\NỘI QUY LAO ĐỘNG CÔNG TY X.txt'}, page_content='NỘI QUY LAO ĐỘNG CÔNG TY X\\nMỤC LỤC\\nQuy định chung\\n\\nQuy định về tuyển dụng và thử việc\\n\\nQuy định về giờ làm việc và nghỉ ngơi\\n\\nQuy định về quản lý nhân sự\\n\\nQuy định về tiền lương, thưởng và phúc lợi\\n\\nQuy định về bảo mật thông tin\\n\\nQuy định về tác phong, đạo đức và văn hóa công ty\\n\\nQuy định về sử dụng tài sản công ty\\n\\nQuy định về an toàn lao động, phòng chống cháy nổ\\n\\nXử lý vi phạm nội quy\\n\\nGiải quyết tranh chấp, khiếu nại\\n\\nHiệu lực và sửa đổi nội quy\\n\\nPhụ lục (Biểu mẫu, quy trình đi kèm)\\n\\n📖 Nội dung chi tiết (bắt đầu)\\n1. QUY ĐỊNH CHUNG\\n1.1 Mục đích\\nNội quy Công ty X nhằm thiết lập các nguyên tắc, quy tắc ứng xử và yêu cầu đối với toàn thể cán bộ, nhân viên, đảm bảo sự vận hành hiệu quả, chuyên nghiệp, và tuân thủ pháp luật.\\n\\n1.2 Phạm vi áp dụng\\nÁp dụng cho tất cả cán bộ, nhân viên, cộng tác viên, thực tập sinh, tư vấn viên và bất kỳ cá nhân nào hoạt động dưới danh nghĩa Công ty X.\\n\\n1.3 Nguyên tắc chung\\nTuân thủ pháp luật Việt Nam và các quy định của công ty.\\n\\nHành xử trung thực, có trách nhiệm và tôn trọng lẫn nhau.\\n\\nBảo vệ hình ảnh, uy tín của công ty trong mọi hoàn cảnh.'),\n",
       " Document(id='50610317-515e-4d4a-944c-379c849ccb53', metadata={'source': 'c:\\\\Users\\\\admin\\\\Desktop\\\\LLM\\\\personal_chatbot_ez\\\\NỘI QUY LAO ĐỘNG CÔNG TY X.txt'}, page_content='NỘI QUY LAO ĐỘNG CÔNG TY X\\nMỤC LỤC\\nQuy định chung\\n\\nQuy định về tuyển dụng và thử việc\\n\\nQuy định về giờ làm việc và nghỉ ngơi\\n\\nQuy định về quản lý nhân sự\\n\\nQuy định về tiền lương, thưởng và phúc lợi\\n\\nQuy định về bảo mật thông tin\\n\\nQuy định về tác phong, đạo đức và văn hóa công ty\\n\\nQuy định về sử dụng tài sản công ty\\n\\nQuy định về an toàn lao động, phòng chống cháy nổ\\n\\nXử lý vi phạm nội quy\\n\\nGiải quyết tranh chấp, khiếu nại\\n\\nHiệu lực và sửa đổi nội quy\\n\\nPhụ lục (Biểu mẫu, quy trình đi kèm)\\n\\n📖 Nội dung chi tiết (bắt đầu)\\n1. QUY ĐỊNH CHUNG\\n1.1 Mục đích\\nNội quy Công ty X nhằm thiết lập các nguyên tắc, quy tắc ứng xử và yêu cầu đối với toàn thể cán bộ, nhân viên, đảm bảo sự vận hành hiệu quả, chuyên nghiệp, và tuân thủ pháp luật.\\n\\n1.2 Phạm vi áp dụng\\nÁp dụng cho tất cả cán bộ, nhân viên, cộng tác viên, thực tập sinh, tư vấn viên và bất kỳ cá nhân nào hoạt động dưới danh nghĩa Công ty X.\\n\\n1.3 Nguyên tắc chung\\nTuân thủ pháp luật Việt Nam và các quy định của công ty.\\n\\nHành xử trung thực, có trách nhiệm và tôn trọng lẫn nhau.\\n\\nBảo vệ hình ảnh, uy tín của công ty trong mọi hoàn cảnh.'),\n",
       " Document(id='a9e885c5-3ede-44c5-b8a9-6471ca66bbb9', metadata={'source': 'c:\\\\Users\\\\admin\\\\Desktop\\\\LLM\\\\personal_chatbot_ez\\\\NỘI QUY LAO ĐỘNG CÔNG TY X.txt'}, page_content='NỘI QUY LAO ĐỘNG CÔNG TY X\\nMỤC LỤC\\nQuy định chung\\n\\nQuy định về tuyển dụng và thử việc\\n\\nQuy định về giờ làm việc và nghỉ ngơi\\n\\nQuy định về quản lý nhân sự\\n\\nQuy định về tiền lương, thưởng và phúc lợi\\n\\nQuy định về bảo mật thông tin\\n\\nQuy định về tác phong, đạo đức và văn hóa công ty\\n\\nQuy định về sử dụng tài sản công ty\\n\\nQuy định về an toàn lao động, phòng chống cháy nổ\\n\\nXử lý vi phạm nội quy\\n\\nGiải quyết tranh chấp, khiếu nại\\n\\nHiệu lực và sửa đổi nội quy\\n\\nPhụ lục (Biểu mẫu, quy trình đi kèm)\\n\\n📖 Nội dung chi tiết (bắt đầu)\\n1. QUY ĐỊNH CHUNG\\n1.1 Mục đích\\nNội quy Công ty X nhằm thiết lập các nguyên tắc, quy tắc ứng xử và yêu cầu đối với toàn thể cán bộ, nhân viên, đảm bảo sự vận hành hiệu quả, chuyên nghiệp, và tuân thủ pháp luật.\\n\\n1.2 Phạm vi áp dụng\\nÁp dụng cho tất cả cán bộ, nhân viên, cộng tác viên, thực tập sinh, tư vấn viên và bất kỳ cá nhân nào hoạt động dưới danh nghĩa Công ty X.\\n\\n1.3 Nguyên tắc chung\\nTuân thủ pháp luật Việt Nam và các quy định của công ty.\\n\\nHành xử trung thực, có trách nhiệm và tôn trọng lẫn nhau.\\n\\nBảo vệ hình ảnh, uy tín của công ty trong mọi hoàn cảnh.'),\n",
       " Document(id='a7011687-9a6e-43e1-a7ed-a6845380b60b', metadata={'source': 'c:\\\\Users\\\\admin\\\\Desktop\\\\LLM\\\\personal_chatbot_ez\\\\NỘI QUY LAO ĐỘNG CÔNG TY X.txt'}, page_content='Chính sách trả lương làm thêm giờ tuân theo quy định của pháp luật.\\n\\n3.3 Nghỉ phép\\nNghỉ phép năm: 12 ngày/năm.\\n\\nNghỉ ốm, nghỉ thai sản, nghỉ không lương tuân thủ theo Bộ luật Lao động.\\n\\n4. QUY ĐỊNH VỀ QUẢN LÝ NHÂN SỰ\\n4.1 Chấm công\\nThực hiện qua hệ thống điện tử (vân tay, thẻ từ, app chấm công...).\\n\\nMọi hành vi gian lận chấm công bị xử lý nghiêm.\\n\\n4.2 Quản lý hồ sơ nhân sự\\nHồ sơ phải được cập nhật đầy đủ: Hợp đồng lao động, phụ lục, quyết định.\\n\\n4.3 Khen thưởng và kỷ luật\\nChính sách khen thưởng theo thành tích, sáng kiến, đóng góp nổi bật.\\n\\nQuy trình xử lý kỷ luật minh bạch, công bằng.\\n\\n5. QUY ĐỊNH VỀ TIỀN LƯƠNG, THƯỞNG VÀ PHÚC LỢI\\n5.1 Cấu trúc lương\\nLương cơ bản\\n\\nPhụ cấp chức vụ, trách nhiệm, chuyên môn\\n\\nHoa hồng, thưởng doanh số (nếu có)\\n\\n5.2 Chính sách thưởng\\nThưởng tháng 13, thưởng hiệu suất, thưởng Tết, thưởng sáng kiến.\\n\\n5.3 Phúc lợi\\nBảo hiểm xã hội, bảo hiểm y tế, bảo hiểm thất nghiệp\\n\\nKhám sức khỏe định kỳ\\n\\nDu lịch, team building hằng năm\\n\\nHỗ trợ học tập, đào tạo nâng cao năng lực\\n\\n6. QUY ĐỊNH VỀ BẢO MẬT THÔNG TIN\\n6.1 Phạm vi thông tin bảo mật\\nThông tin khách hàng\\n\\nThông tin hợp đồng, tài chính\\n\\nThông tin chiến lược kinh doanh, công nghệ')]"
      ]
     },
     "execution_count": 62,
     "metadata": {},
     "output_type": "execute_result"
    }
   ],
   "source": [
    "retriver"
   ]
  },
  {
   "cell_type": "markdown",
   "metadata": {
    "id": "k2w1EPN17Hgt"
   },
   "source": [
    "# Retrive Tool"
   ]
  },
  {
   "cell_type": "code",
   "execution_count": null,
   "metadata": {
    "executionInfo": {
     "elapsed": 5,
     "status": "ok",
     "timestamp": 1745768795527,
     "user": {
      "displayName": "Tiến Phát Bùi",
      "userId": "08833890692737547161"
     },
     "user_tz": -420
    },
    "id": "YQe3_lqa63hg"
   },
   "outputs": [],
   "source": [
    "from pydantic import BaseModel, Field\n",
    "from typing import Type, Optional\n",
    "from langchain.tools import BaseTool\n",
    "from langchain.callbacks.manager import (\n",
    "    CallbackManagerForToolRun,\n",
    ")"
   ]
  },
  {
   "cell_type": "code",
   "execution_count": null,
   "metadata": {
    "executionInfo": {
     "elapsed": 3,
     "status": "ok",
     "timestamp": 1745768889782,
     "user": {
      "displayName": "Tiến Phát Bùi",
      "userId": "08833890692737547161"
     },
     "user_tz": -420
    },
    "id": "zeQALf2u7cyO"
   },
   "outputs": [],
   "source": [
    "class RetriveInput(BaseModel):\n",
    "  query: str = Field(\"\", description=\"Search query string entered by the user\")"
   ]
  },
  {
   "cell_type": "code",
   "execution_count": null,
   "metadata": {
    "executionInfo": {
     "elapsed": 21,
     "status": "ok",
     "timestamp": 1745769414733,
     "user": {
      "displayName": "Tiến Phát Bùi",
      "userId": "08833890692737547161"
     },
     "user_tz": -420
    },
    "id": "ctiMWaKy7zzE"
   },
   "outputs": [],
   "source": [
    "class RetrieveTool(BaseTool):\n",
    "  name: str = 'retrive_tool'\n",
    "  description: str = \"Tool that retrieves information about company rules, list of holidays and labor regulations\"\n",
    "  args_schema: Type[BaseModel] = RetriveInput\n",
    "  return_direct: bool = False\n",
    "\n",
    "  _vector_store: Type[Chroma]\n",
    "  _k: int\n",
    "\n",
    "  def __init__(self, vectorstores, **kwargs) -> None:\n",
    "    super().__init__(**kwargs)\n",
    "    self._vector_store = vectorstores\n",
    "    self._k = kwargs.get(\"k\", 4)\n",
    "\n",
    "  def _run(\n",
    "      self,\n",
    "      query: str,\n",
    "      run_manager: Optional[CallbackManagerForToolRun] = None,\n",
    "  ) -> str:\n",
    "    results = self._vector_store.similarity_search(query, k=self._k)\n",
    "    documents = [doc.page_content for doc in results]\n",
    "\n",
    "    return \"\\n\\n\".join(documents)\n",
    "\n"
   ]
  },
  {
   "cell_type": "code",
   "execution_count": null,
   "metadata": {
    "colab": {
     "base_uri": "https://localhost:8080/"
    },
    "executionInfo": {
     "elapsed": 71,
     "status": "ok",
     "timestamp": 1745769418244,
     "user": {
      "displayName": "Tiến Phát Bùi",
      "userId": "08833890692737547161"
     },
     "user_tz": -420
    },
    "id": "YOIDfg4E9X2O",
    "outputId": "55df2196-4082-418c-f803-13f933d522f8"
   },
   "outputs": [],
   "source": [
    "tool = RetrieveTool(vectorstores=vectorstores)\n",
    "\n",
    "print(tool.invoke({\"query\": \"Ronaldo\"}))"
   ]
  },
  {
   "cell_type": "markdown",
   "metadata": {
    "id": "6ePMX1CH97cM"
   },
   "source": [
    "# Search web tool"
   ]
  },
  {
   "cell_type": "code",
   "execution_count": null,
   "metadata": {
    "colab": {
     "base_uri": "https://localhost:8080/"
    },
    "executionInfo": {
     "elapsed": 5847,
     "status": "ok",
     "timestamp": 1745769533798,
     "user": {
      "displayName": "Tiến Phát Bùi",
      "userId": "08833890692737547161"
     },
     "user_tz": -420
    },
    "id": "6YATwios9oBw",
    "outputId": "01f3a0ba-32aa-49c9-dcb0-df67718fa52c"
   },
   "outputs": [],
   "source": [
    "if \"TAVILY_API_KEY\" not in os.environ:\n",
    "    os.environ[\"TAVILY_API_KEY\"] = getpass.getpass(\"Enter API key:\")\n",
    "    #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"
   ]
  },
  {
   "cell_type": "code",
   "execution_count": null,
   "metadata": {
    "executionInfo": {
     "elapsed": 230,
     "status": "ok",
     "timestamp": 1745769549618,
     "user": {
      "displayName": "Tiến Phát Bùi",
      "userId": "08833890692737547161"
     },
     "user_tz": -420
    },
    "id": "annHQTXb-Pmc"
   },
   "outputs": [],
   "source": [
    "from langchain_tavily import TavilySearch"
   ]
  },
  {
   "cell_type": "code",
   "execution_count": null,
   "metadata": {
    "executionInfo": {
     "elapsed": 42,
     "status": "ok",
     "timestamp": 1745769627465,
     "user": {
      "displayName": "Tiến Phát Bùi",
      "userId": "08833890692737547161"
     },
     "user_tz": -420
    },
    "id": "znUsCbyK-U1O"
   },
   "outputs": [],
   "source": [
    "search_web_tool = TavilySearch(\n",
    "    max_results=2,\n",
    "    topic = \"general\", # news, finance\n",
    ")"
   ]
  },
  {
   "cell_type": "code",
   "execution_count": null,
   "metadata": {
    "colab": {
     "base_uri": "https://localhost:8080/"
    },
    "executionInfo": {
     "elapsed": 2096,
     "status": "ok",
     "timestamp": 1745769692318,
     "user": {
      "displayName": "Tiến Phát Bùi",
      "userId": "08833890692737547161"
     },
     "user_tz": -420
    },
    "id": "KFLun9h_-n4t",
    "outputId": "97b9f48e-55b3-4911-cd7f-de7fb6831bbf"
   },
   "outputs": [
    {
     "data": {
      "text/plain": [
       "{'query': 'lebron james hay doncic hay hơn',\n",
       " 'follow_up_questions': None,\n",
       " 'answer': None,\n",
       " 'images': [],\n",
       " 'results': [{'url': 'https://www.reddit.com/r/nba/comments/kb310t/better_passer_luka_doncic_or_lebron_james/?tl=vi',\n",
       "   'title': 'Cầu thủ chuyền bóng hay hơn: Luka Doncic hay Lebron James? : r ...',\n",
       "   'content': 'Lebron James chuyền bóng hay hơn. Doncic có những đường chuyền trông giống như anh ấy đang làm những gì Lebron làm, nhưng cậu ấy vẫn xử lý bóng hơi lóng ngóng',\n",
       "   'score': 0.9121316,\n",
       "   'raw_content': None},\n",
       "  {'url': 'https://thanhnien.vn/luka-doncic-chinh-phuc-cot-moc-lich-su-va-sanh-vai-cung-nhieu-huyen-thoai-nba-185231227051539071.htm',\n",
       "   'title': 'Luka Doncic chinh phục cột mốc lịch sử và sánh vai cùng nhiều ...',\n",
       "   'content': 'Trong đó, LeBron James từng mất 368 trận để chạm mốc 10.000, nhiều hơn Luka chỉ 10 trận. Luka Doncic chinh phục cột mốc lịch sử và sánh vai cùng',\n",
       "   'score': 0.8033131,\n",
       "   'raw_content': None}],\n",
       " 'response_time': 1.2,\n",
       " 'request_id': '54c8aaaf-9439-4a3e-8c04-ee804dbcd24f'}"
      ]
     },
     "execution_count": 71,
     "metadata": {},
     "output_type": "execute_result"
    }
   ],
   "source": [
    "search_web_tool.invoke({\"query\" : \"lebron james hay doncic hay hơn\"})"
   ]
  },
  {
   "cell_type": "code",
   "execution_count": null,
   "metadata": {
    "executionInfo": {
     "elapsed": 4,
     "status": "ok",
     "timestamp": 1745769745825,
     "user": {
      "displayName": "Tiến Phát Bùi",
      "userId": "08833890692737547161"
     },
     "user_tz": -420
    },
    "id": "YIPvf7ZO-vnD"
   },
   "outputs": [],
   "source": [
    "from langgraph.prebuilt import create_react_agent"
   ]
  },
  {
   "cell_type": "code",
   "execution_count": null,
   "metadata": {
    "colab": {
     "base_uri": "https://localhost:8080/"
    },
    "executionInfo": {
     "elapsed": 8401,
     "status": "ok",
     "timestamp": 1745770865708,
     "user": {
      "displayName": "Tiến Phát Bùi",
      "userId": "08833890692737547161"
     },
     "user_tz": -420
    },
    "id": "QW3BVo8Q_Eym",
    "outputId": "c9825421-63a1-42d7-8ef5-6ea2d677d50a"
   },
   "outputs": [
    {
     "name": "stdout",
     "output_type": "stream",
     "text": [
      "================================\u001b[1m Human Message \u001b[0m=================================\n",
      "\n",
      "ronaldo có mấy sừng\n",
      "==================================\u001b[1m Ai Message \u001b[0m==================================\n",
      "\n",
      "Là một người bình thường, Ronaldo không có sừng.\n"
     ]
    }
   ],
   "source": [
    "agent = create_react_agent(llm, [search_web_tool, tool])\n",
    "\n",
    "user_input = \"ronaldo có mấy sừng\"\n",
    "\n",
    "for step in agent.stream(\n",
    "    {\"messages\": user_input},\n",
    "    stream_mode=\"values\"\n",
    "):\n",
    "  step['messages'][-1].pretty_print()"
   ]
  },
  {
   "cell_type": "code",
   "execution_count": null,
   "metadata": {
    "colab": {
     "base_uri": "https://localhost:8080/",
     "height": 127
    },
    "executionInfo": {
     "elapsed": 8627,
     "status": "ok",
     "timestamp": 1745769998711,
     "user": {
      "displayName": "Tiến Phát Bùi",
      "userId": "08833890692737547161"
     },
     "user_tz": -420
    },
    "id": "vAv3A_Ll_jz9",
    "outputId": "c2fc7490-4f9e-4517-d315-8257f0a3aa3a"
   },
   "outputs": [],
   "source": [
    "# result = agent.invoke({\"messages\": \"\"})\n",
    "# result['messages'][-1].content"
   ]
  },
  {
   "cell_type": "markdown",
   "metadata": {
    "id": "FDA_iJQhAFWO"
   },
   "source": [
    "#UI Chatbot"
   ]
  },
  {
   "cell_type": "code",
   "execution_count": null,
   "metadata": {
    "executionInfo": {
     "elapsed": 3,
     "status": "ok",
     "timestamp": 1745770645698,
     "user": {
      "displayName": "Tiến Phát Bùi",
      "userId": "08833890692737547161"
     },
     "user_tz": -420
    },
    "id": "_M5na-35AAbT"
   },
   "outputs": [],
   "source": [
    "def chat(user_message, history):\n",
    "  if history is None:\n",
    "    history = []\n",
    "\n",
    "  messages = history.copy()\n",
    "\n",
    "  messages.append({\"role\": \"user\", \"content\": user_message})\n",
    "\n",
    "  result = agent.invoke({\"messages\": messages})\n",
    "\n",
    "  bot_reply = result['messages'][-1].content\n",
    "\n",
    "  #add to history\n",
    "  history.append({\"role\": \"user\", \"content\": user_message})\n",
    "  history.append({\"role\": \"assistant\", \"content\": bot_reply})\n",
    "\n",
    "  return \"\", history"
   ]
  },
  {
   "cell_type": "code",
   "execution_count": null,
   "metadata": {
    "executionInfo": {
     "elapsed": 5,
     "status": "ok",
     "timestamp": 1745770645835,
     "user": {
      "displayName": "Tiến Phát Bùi",
      "userId": "08833890692737547161"
     },
     "user_tz": -420
    },
    "id": "4vMQ1mYNAt4_"
   },
   "outputs": [],
   "source": [
    "import gradio as gr"
   ]
  },
  {
   "cell_type": "code",
   "execution_count": null,
   "metadata": {
    "colab": {
     "base_uri": "https://localhost:8080/",
     "height": 613
    },
    "executionInfo": {
     "elapsed": 1515,
     "status": "ok",
     "timestamp": 1745770693790,
     "user": {
      "displayName": "Tiến Phát Bùi",
      "userId": "08833890692737547161"
     },
     "user_tz": -420
    },
    "id": "9GkJHPGWAwhM",
    "outputId": "42b2fdfd-1fd3-4f97-9f02-4c93899cd0c3"
   },
   "outputs": [],
   "source": [
    "with gr.Blocks() as demo:\n",
    "  gr.Markdown(\"Chatbot private\")\n",
    "  chatbot = gr.Chatbot(type=\"messages\")\n",
    "  with gr.Row():\n",
    "    txt = gr.Textbox(\n",
    "        show_label=False,\n",
    "        placeholder=\"Nhập tin nhắn...\"\n",
    "    )\n",
    "  txt.submit(chat, [txt, chatbot], [txt, chatbot])\n",
    "\n",
    "demo.launch(share=True)"
   ]
  },
  {
   "cell_type": "code",
   "execution_count": null,
   "metadata": {
    "id": "ZjGsddA3BZOH"
   },
   "outputs": [],
   "source": []
  }
 ],
 "metadata": {
  "colab": {
   "authorship_tag": "ABX9TyO67ll6gunl+i5vYJcR2sdF",
   "mount_file_id": "1-_sLPHS-ZTADAV9TLjzruxAIpkQTZM-6",
   "provenance": []
  },
  "kernelspec": {
   "display_name": "base",
   "language": "python",
   "name": "python3"
  },
  "language_info": {
   "codemirror_mode": {
    "name": "ipython",
    "version": 3
   },
   "file_extension": ".py",
   "mimetype": "text/x-python",
   "name": "python",
   "nbconvert_exporter": "python",
   "pygments_lexer": "ipython3",
   "version": "3.12.7"
  },
  "widgets": {
   "application/vnd.jupyter.widget-state+json": {
    "044ffbb45d7f4102acb17a0a0a8f3779": {
     "model_module": "@jupyter-widgets/base",
     "model_module_version": "1.2.0",
     "model_name": "LayoutModel",
     "state": {
      "_model_module": "@jupyter-widgets/base",
      "_model_module_version": "1.2.0",
      "_model_name": "LayoutModel",
      "_view_count": null,
      "_view_module": "@jupyter-widgets/base",
      "_view_module_version": "1.2.0",
      "_view_name": "LayoutView",
      "align_content": null,
      "align_items": null,
      "align_self": null,
      "border": null,
      "bottom": null,
      "display": null,
      "flex": null,
      "flex_flow": null,
      "grid_area": null,
      "grid_auto_columns": null,
      "grid_auto_flow": null,
      "grid_auto_rows": null,
      "grid_column": null,
      "grid_gap": null,
      "grid_row": null,
      "grid_template_areas": null,
      "grid_template_columns": null,
      "grid_template_rows": null,
      "height": null,
      "justify_content": null,
      "justify_items": null,
      "left": null,
      "margin": null,
      "max_height": null,
      "max_width": null,
      "min_height": null,
      "min_width": null,
      "object_fit": null,
      "object_position": null,
      "order": null,
      "overflow": null,
      "overflow_x": null,
      "overflow_y": null,
      "padding": null,
      "right": null,
      "top": null,
      "visibility": null,
      "width": null
     }
    },
    "0c3fe6ee9b9e42eaa3b3fb4557ab5201": {
     "model_module": "@jupyter-widgets/controls",
     "model_module_version": "1.5.0",
     "model_name": "HTMLModel",
     "state": {
      "_dom_classes": [],
      "_model_module": "@jupyter-widgets/controls",
      "_model_module_version": "1.5.0",
      "_model_name": "HTMLModel",
      "_view_count": null,
      "_view_module": "@jupyter-widgets/controls",
      "_view_module_version": "1.5.0",
      "_view_name": "HTMLView",
      "description": "",
      "description_tooltip": null,
      "layout": "IPY_MODEL_1e95b4d13bec47f7b1534b09a62ee9bb",
      "placeholder": "​",
      "style": "IPY_MODEL_ff5391134a674525a1393c24aa6180e6",
      "value": "model.safetensors: 100%"
     }
    },
    "10ba44afa6bb48ba8f94ae6db1ca428c": {
     "model_module": "@jupyter-widgets/controls",
     "model_module_version": "1.5.0",
     "model_name": "DescriptionStyleModel",
     "state": {
      "_model_module": "@jupyter-widgets/controls",
      "_model_module_version": "1.5.0",
      "_model_name": "DescriptionStyleModel",
      "_view_count": null,
      "_view_module": "@jupyter-widgets/base",
      "_view_module_version": "1.2.0",
      "_view_name": "StyleView",
      "description_width": ""
     }
    },
    "1a109626f07e469f9765556118452d24": {
     "model_module": "@jupyter-widgets/base",
     "model_module_version": "1.2.0",
     "model_name": "LayoutModel",
     "state": {
      "_model_module": "@jupyter-widgets/base",
      "_model_module_version": "1.2.0",
      "_model_name": "LayoutModel",
      "_view_count": null,
      "_view_module": "@jupyter-widgets/base",
      "_view_module_version": "1.2.0",
      "_view_name": "LayoutView",
      "align_content": null,
      "align_items": null,
      "align_self": null,
      "border": null,
      "bottom": null,
      "display": null,
      "flex": null,
      "flex_flow": null,
      "grid_area": null,
      "grid_auto_columns": null,
      "grid_auto_flow": null,
      "grid_auto_rows": null,
      "grid_column": null,
      "grid_gap": null,
      "grid_row": null,
      "grid_template_areas": null,
      "grid_template_columns": null,
      "grid_template_rows": null,
      "height": null,
      "justify_content": null,
      "justify_items": null,
      "left": null,
      "margin": null,
      "max_height": null,
      "max_width": null,
      "min_height": null,
      "min_width": null,
      "object_fit": null,
      "object_position": null,
      "order": null,
      "overflow": null,
      "overflow_x": null,
      "overflow_y": null,
      "padding": null,
      "right": null,
      "top": null,
      "visibility": null,
      "width": null
     }
    },
    "1e8448bec7cd49a889e35a990a2b75b5": {
     "model_module": "@jupyter-widgets/base",
     "model_module_version": "1.2.0",
     "model_name": "LayoutModel",
     "state": {
      "_model_module": "@jupyter-widgets/base",
      "_model_module_version": "1.2.0",
      "_model_name": "LayoutModel",
      "_view_count": null,
      "_view_module": "@jupyter-widgets/base",
      "_view_module_version": "1.2.0",
      "_view_name": "LayoutView",
      "align_content": null,
      "align_items": null,
      "align_self": null,
      "border": null,
      "bottom": null,
      "display": null,
      "flex": null,
      "flex_flow": null,
      "grid_area": null,
      "grid_auto_columns": null,
      "grid_auto_flow": null,
      "grid_auto_rows": null,
      "grid_column": null,
      "grid_gap": null,
      "grid_row": null,
      "grid_template_areas": null,
      "grid_template_columns": null,
      "grid_template_rows": null,
      "height": null,
      "justify_content": null,
      "justify_items": null,
      "left": null,
      "margin": null,
      "max_height": null,
      "max_width": null,
      "min_height": null,
      "min_width": null,
      "object_fit": null,
      "object_position": null,
      "order": null,
      "overflow": null,
      "overflow_x": null,
      "overflow_y": null,
      "padding": null,
      "right": null,
      "top": null,
      "visibility": null,
      "width": null
     }
    },
    "1e95b4d13bec47f7b1534b09a62ee9bb": {
     "model_module": "@jupyter-widgets/base",
     "model_module_version": "1.2.0",
     "model_name": "LayoutModel",
     "state": {
      "_model_module": "@jupyter-widgets/base",
      "_model_module_version": "1.2.0",
      "_model_name": "LayoutModel",
      "_view_count": null,
      "_view_module": "@jupyter-widgets/base",
      "_view_module_version": "1.2.0",
      "_view_name": "LayoutView",
      "align_content": null,
      "align_items": null,
      "align_self": null,
      "border": null,
      "bottom": null,
      "display": null,
      "flex": null,
      "flex_flow": null,
      "grid_area": null,
      "grid_auto_columns": null,
      "grid_auto_flow": null,
      "grid_auto_rows": null,
      "grid_column": null,
      "grid_gap": null,
      "grid_row": null,
      "grid_template_areas": null,
      "grid_template_columns": null,
      "grid_template_rows": null,
      "height": null,
      "justify_content": null,
      "justify_items": null,
      "left": null,
      "margin": null,
      "max_height": null,
      "max_width": null,
      "min_height": null,
      "min_width": null,
      "object_fit": null,
      "object_position": null,
      "order": null,
      "overflow": null,
      "overflow_x": null,
      "overflow_y": null,
      "padding": null,
      "right": null,
      "top": null,
      "visibility": null,
      "width": null
     }
    },
    "25e0cb305b604a8b871563e19147b5cc": {
     "model_module": "@jupyter-widgets/controls",
     "model_module_version": "1.5.0",
     "model_name": "HBoxModel",
     "state": {
      "_dom_classes": [],
      "_model_module": "@jupyter-widgets/controls",
      "_model_module_version": "1.5.0",
      "_model_name": "HBoxModel",
      "_view_count": null,
      "_view_module": "@jupyter-widgets/controls",
      "_view_module_version": "1.5.0",
      "_view_name": "HBoxView",
      "box_style": "",
      "children": [
       "IPY_MODEL_adbc4b6cdbe4491da6e1cdf362401d5b",
       "IPY_MODEL_3b3769b219f54e159ded72cbdf90d3e7",
       "IPY_MODEL_647652586b2e488ba24f99b2c95c0685"
      ],
      "layout": "IPY_MODEL_5dcbff8be87b448a90887a53ec671cfc"
     }
    },
    "2a1b27303b094926b6b732a2edd89a91": {
     "model_module": "@jupyter-widgets/controls",
     "model_module_version": "1.5.0",
     "model_name": "DescriptionStyleModel",
     "state": {
      "_model_module": "@jupyter-widgets/controls",
      "_model_module_version": "1.5.0",
      "_model_name": "DescriptionStyleModel",
      "_view_count": null,
      "_view_module": "@jupyter-widgets/base",
      "_view_module_version": "1.2.0",
      "_view_name": "StyleView",
      "description_width": ""
     }
    },
    "362e0355d3104cb8beabd334dae185cc": {
     "model_module": "@jupyter-widgets/controls",
     "model_module_version": "1.5.0",
     "model_name": "HBoxModel",
     "state": {
      "_dom_classes": [],
      "_model_module": "@jupyter-widgets/controls",
      "_model_module_version": "1.5.0",
      "_model_name": "HBoxModel",
      "_view_count": null,
      "_view_module": "@jupyter-widgets/controls",
      "_view_module_version": "1.5.0",
      "_view_name": "HBoxView",
      "box_style": "",
      "children": [
       "IPY_MODEL_5fdf2d6ed05347efa261797c5170e241",
       "IPY_MODEL_431b9eb6aa1f413e940f57756582ff1d",
       "IPY_MODEL_3c55793454d84fe09ec9d0dd24eed1e8"
      ],
      "layout": "IPY_MODEL_3e399f6738a84ac7b3aaaf359eef8bd8"
     }
    },
    "38d6c93880134b3ca2777e17c86d356e": {
     "model_module": "@jupyter-widgets/base",
     "model_module_version": "1.2.0",
     "model_name": "LayoutModel",
     "state": {
      "_model_module": "@jupyter-widgets/base",
      "_model_module_version": "1.2.0",
      "_model_name": "LayoutModel",
      "_view_count": null,
      "_view_module": "@jupyter-widgets/base",
      "_view_module_version": "1.2.0",
      "_view_name": "LayoutView",
      "align_content": null,
      "align_items": null,
      "align_self": null,
      "border": null,
      "bottom": null,
      "display": null,
      "flex": null,
      "flex_flow": null,
      "grid_area": null,
      "grid_auto_columns": null,
      "grid_auto_flow": null,
      "grid_auto_rows": null,
      "grid_column": null,
      "grid_gap": null,
      "grid_row": null,
      "grid_template_areas": null,
      "grid_template_columns": null,
      "grid_template_rows": null,
      "height": null,
      "justify_content": null,
      "justify_items": null,
      "left": null,
      "margin": null,
      "max_height": null,
      "max_width": null,
      "min_height": null,
      "min_width": null,
      "object_fit": null,
      "object_position": null,
      "order": null,
      "overflow": null,
      "overflow_x": null,
      "overflow_y": null,
      "padding": null,
      "right": null,
      "top": null,
      "visibility": null,
      "width": null
     }
    },
    "3a5c639951ba48e4adc50937387f24cf": {
     "model_module": "@jupyter-widgets/controls",
     "model_module_version": "1.5.0",
     "model_name": "ProgressStyleModel",
     "state": {
      "_model_module": "@jupyter-widgets/controls",
      "_model_module_version": "1.5.0",
      "_model_name": "ProgressStyleModel",
      "_view_count": null,
      "_view_module": "@jupyter-widgets/base",
      "_view_module_version": "1.2.0",
      "_view_name": "StyleView",
      "bar_color": null,
      "description_width": ""
     }
    },
    "3b3769b219f54e159ded72cbdf90d3e7": {
     "model_module": "@jupyter-widgets/controls",
     "model_module_version": "1.5.0",
     "model_name": "FloatProgressModel",
     "state": {
      "_dom_classes": [],
      "_model_module": "@jupyter-widgets/controls",
      "_model_module_version": "1.5.0",
      "_model_name": "FloatProgressModel",
      "_view_count": null,
      "_view_module": "@jupyter-widgets/controls",
      "_view_module_version": "1.5.0",
      "_view_name": "ProgressView",
      "bar_style": "success",
      "description": "",
      "description_tooltip": null,
      "layout": "IPY_MODEL_1e8448bec7cd49a889e35a990a2b75b5",
      "max": 214,
      "min": 0,
      "orientation": "horizontal",
      "style": "IPY_MODEL_3a5c639951ba48e4adc50937387f24cf",
      "value": 214
     }
    },
    "3c55793454d84fe09ec9d0dd24eed1e8": {
     "model_module": "@jupyter-widgets/controls",
     "model_module_version": "1.5.0",
     "model_name": "HTMLModel",
     "state": {
      "_dom_classes": [],
      "_model_module": "@jupyter-widgets/controls",
      "_model_module_version": "1.5.0",
      "_model_name": "HTMLModel",
      "_view_count": null,
      "_view_module": "@jupyter-widgets/controls",
      "_view_module_version": "1.5.0",
      "_view_name": "HTMLView",
      "description": "",
      "description_tooltip": null,
      "layout": "IPY_MODEL_5f5049f043fe4d10a21b8c5d76efa358",
      "placeholder": "​",
      "style": "IPY_MODEL_f4a83a6da0064305b204aa4a1bd9c86a",
      "value": " 141/141 [00:00&lt;00:00, 11.8kB/s]"
     }
    },
    "3e399f6738a84ac7b3aaaf359eef8bd8": {
     "model_module": "@jupyter-widgets/base",
     "model_module_version": "1.2.0",
     "model_name": "LayoutModel",
     "state": {
      "_model_module": "@jupyter-widgets/base",
      "_model_module_version": "1.2.0",
      "_model_name": "LayoutModel",
      "_view_count": null,
      "_view_module": "@jupyter-widgets/base",
      "_view_module_version": "1.2.0",
      "_view_name": "LayoutView",
      "align_content": null,
      "align_items": null,
      "align_self": null,
      "border": null,
      "bottom": null,
      "display": null,
      "flex": null,
      "flex_flow": null,
      "grid_area": null,
      "grid_auto_columns": null,
      "grid_auto_flow": null,
      "grid_auto_rows": null,
      "grid_column": null,
      "grid_gap": null,
      "grid_row": null,
      "grid_template_areas": null,
      "grid_template_columns": null,
      "grid_template_rows": null,
      "height": null,
      "justify_content": null,
      "justify_items": null,
      "left": null,
      "margin": null,
      "max_height": null,
      "max_width": null,
      "min_height": null,
      "min_width": null,
      "object_fit": null,
      "object_position": null,
      "order": null,
      "overflow": null,
      "overflow_x": null,
      "overflow_y": null,
      "padding": null,
      "right": null,
      "top": null,
      "visibility": null,
      "width": null
     }
    },
    "3fbfba89c0d249ea9fe8dd65848a61ac": {
     "model_module": "@jupyter-widgets/base",
     "model_module_version": "1.2.0",
     "model_name": "LayoutModel",
     "state": {
      "_model_module": "@jupyter-widgets/base",
      "_model_module_version": "1.2.0",
      "_model_name": "LayoutModel",
      "_view_count": null,
      "_view_module": "@jupyter-widgets/base",
      "_view_module_version": "1.2.0",
      "_view_name": "LayoutView",
      "align_content": null,
      "align_items": null,
      "align_self": null,
      "border": null,
      "bottom": null,
      "display": null,
      "flex": null,
      "flex_flow": null,
      "grid_area": null,
      "grid_auto_columns": null,
      "grid_auto_flow": null,
      "grid_auto_rows": null,
      "grid_column": null,
      "grid_gap": null,
      "grid_row": null,
      "grid_template_areas": null,
      "grid_template_columns": null,
      "grid_template_rows": null,
      "height": null,
      "justify_content": null,
      "justify_items": null,
      "left": null,
      "margin": null,
      "max_height": null,
      "max_width": null,
      "min_height": null,
      "min_width": null,
      "object_fit": null,
      "object_position": null,
      "order": null,
      "overflow": null,
      "overflow_x": null,
      "overflow_y": null,
      "padding": null,
      "right": null,
      "top": null,
      "visibility": null,
      "width": null
     }
    },
    "400fa87026914a8eac95c486964aa2b1": {
     "model_module": "@jupyter-widgets/base",
     "model_module_version": "1.2.0",
     "model_name": "LayoutModel",
     "state": {
      "_model_module": "@jupyter-widgets/base",
      "_model_module_version": "1.2.0",
      "_model_name": "LayoutModel",
      "_view_count": null,
      "_view_module": "@jupyter-widgets/base",
      "_view_module_version": "1.2.0",
      "_view_name": "LayoutView",
      "align_content": null,
      "align_items": null,
      "align_self": null,
      "border": null,
      "bottom": null,
      "display": null,
      "flex": null,
      "flex_flow": null,
      "grid_area": null,
      "grid_auto_columns": null,
      "grid_auto_flow": null,
      "grid_auto_rows": null,
      "grid_column": null,
      "grid_gap": null,
      "grid_row": null,
      "grid_template_areas": null,
      "grid_template_columns": null,
      "grid_template_rows": null,
      "height": null,
      "justify_content": null,
      "justify_items": null,
      "left": null,
      "margin": null,
      "max_height": null,
      "max_width": null,
      "min_height": null,
      "min_width": null,
      "object_fit": null,
      "object_position": null,
      "order": null,
      "overflow": null,
      "overflow_x": null,
      "overflow_y": null,
      "padding": null,
      "right": null,
      "top": null,
      "visibility": null,
      "width": null
     }
    },
    "431b9eb6aa1f413e940f57756582ff1d": {
     "model_module": "@jupyter-widgets/controls",
     "model_module_version": "1.5.0",
     "model_name": "FloatProgressModel",
     "state": {
      "_dom_classes": [],
      "_model_module": "@jupyter-widgets/controls",
      "_model_module_version": "1.5.0",
      "_model_name": "FloatProgressModel",
      "_view_count": null,
      "_view_module": "@jupyter-widgets/controls",
      "_view_module_version": "1.5.0",
      "_view_name": "ProgressView",
      "bar_style": "success",
      "description": "",
      "description_tooltip": null,
      "layout": "IPY_MODEL_38d6c93880134b3ca2777e17c86d356e",
      "max": 141,
      "min": 0,
      "orientation": "horizontal",
      "style": "IPY_MODEL_d17356c457ca4da99aaf592dc63fb5b4",
      "value": 141
     }
    },
    "4387831b514645bfb23b35675e1af2bd": {
     "model_module": "@jupyter-widgets/base",
     "model_module_version": "1.2.0",
     "model_name": "LayoutModel",
     "state": {
      "_model_module": "@jupyter-widgets/base",
      "_model_module_version": "1.2.0",
      "_model_name": "LayoutModel",
      "_view_count": null,
      "_view_module": "@jupyter-widgets/base",
      "_view_module_version": "1.2.0",
      "_view_name": "LayoutView",
      "align_content": null,
      "align_items": null,
      "align_self": null,
      "border": null,
      "bottom": null,
      "display": null,
      "flex": null,
      "flex_flow": null,
      "grid_area": null,
      "grid_auto_columns": null,
      "grid_auto_flow": null,
      "grid_auto_rows": null,
      "grid_column": null,
      "grid_gap": null,
      "grid_row": null,
      "grid_template_areas": null,
      "grid_template_columns": null,
      "grid_template_rows": null,
      "height": null,
      "justify_content": null,
      "justify_items": null,
      "left": null,
      "margin": null,
      "max_height": null,
      "max_width": null,
      "min_height": null,
      "min_width": null,
      "object_fit": null,
      "object_position": null,
      "order": null,
      "overflow": null,
      "overflow_x": null,
      "overflow_y": null,
      "padding": null,
      "right": null,
      "top": null,
      "visibility": null,
      "width": null
     }
    },
    "4cc702d02df546e78b21bb54ddc7c5c6": {
     "model_module": "@jupyter-widgets/controls",
     "model_module_version": "1.5.0",
     "model_name": "DescriptionStyleModel",
     "state": {
      "_model_module": "@jupyter-widgets/controls",
      "_model_module_version": "1.5.0",
      "_model_name": "DescriptionStyleModel",
      "_view_count": null,
      "_view_module": "@jupyter-widgets/base",
      "_view_module_version": "1.2.0",
      "_view_name": "StyleView",
      "description_width": ""
     }
    },
    "4f05246f8d5949628f121672688baba9": {
     "model_module": "@jupyter-widgets/base",
     "model_module_version": "1.2.0",
     "model_name": "LayoutModel",
     "state": {
      "_model_module": "@jupyter-widgets/base",
      "_model_module_version": "1.2.0",
      "_model_name": "LayoutModel",
      "_view_count": null,
      "_view_module": "@jupyter-widgets/base",
      "_view_module_version": "1.2.0",
      "_view_name": "LayoutView",
      "align_content": null,
      "align_items": null,
      "align_self": null,
      "border": null,
      "bottom": null,
      "display": null,
      "flex": null,
      "flex_flow": null,
      "grid_area": null,
      "grid_auto_columns": null,
      "grid_auto_flow": null,
      "grid_auto_rows": null,
      "grid_column": null,
      "grid_gap": null,
      "grid_row": null,
      "grid_template_areas": null,
      "grid_template_columns": null,
      "grid_template_rows": null,
      "height": null,
      "justify_content": null,
      "justify_items": null,
      "left": null,
      "margin": null,
      "max_height": null,
      "max_width": null,
      "min_height": null,
      "min_width": null,
      "object_fit": null,
      "object_position": null,
      "order": null,
      "overflow": null,
      "overflow_x": null,
      "overflow_y": null,
      "padding": null,
      "right": null,
      "top": null,
      "visibility": null,
      "width": null
     }
    },
    "5009016cb6b546b69c81f00f2b0f4956": {
     "model_module": "@jupyter-widgets/controls",
     "model_module_version": "1.5.0",
     "model_name": "HTMLModel",
     "state": {
      "_dom_classes": [],
      "_model_module": "@jupyter-widgets/controls",
      "_model_module_version": "1.5.0",
      "_model_name": "HTMLModel",
      "_view_count": null,
      "_view_module": "@jupyter-widgets/controls",
      "_view_module_version": "1.5.0",
      "_view_name": "HTMLView",
      "description": "",
      "description_tooltip": null,
      "layout": "IPY_MODEL_6980ece35f2245a893e4196313e34854",
      "placeholder": "​",
      "style": "IPY_MODEL_10ba44afa6bb48ba8f94ae6db1ca428c",
      "value": "tokenizer.json: 100%"
     }
    },
    "54d805e1cc2f4cfe929d540fe2dd66e4": {
     "model_module": "@jupyter-widgets/controls",
     "model_module_version": "1.5.0",
     "model_name": "ProgressStyleModel",
     "state": {
      "_model_module": "@jupyter-widgets/controls",
      "_model_module_version": "1.5.0",
      "_model_name": "ProgressStyleModel",
      "_view_count": null,
      "_view_module": "@jupyter-widgets/base",
      "_view_module_version": "1.2.0",
      "_view_name": "StyleView",
      "bar_color": null,
      "description_width": ""
     }
    },
    "56140a61acd64dfa8550b63a4af237d3": {
     "model_module": "@jupyter-widgets/controls",
     "model_module_version": "1.5.0",
     "model_name": "HBoxModel",
     "state": {
      "_dom_classes": [],
      "_model_module": "@jupyter-widgets/controls",
      "_model_module_version": "1.5.0",
      "_model_name": "HBoxModel",
      "_view_count": null,
      "_view_module": "@jupyter-widgets/controls",
      "_view_module_version": "1.5.0",
      "_view_name": "HBoxView",
      "box_style": "",
      "children": [
       "IPY_MODEL_d4e94d221f1e4a4a99160da096b537c5",
       "IPY_MODEL_a24e95c9a8b444c5aa90811517396afe",
       "IPY_MODEL_f722651c79b7482ca1d51727cf7e0f91"
      ],
      "layout": "IPY_MODEL_d9be52c6c8044dbb97f7dd236642b380"
     }
    },
    "571573967c5a49358b4daf3a6b2101bb": {
     "model_module": "@jupyter-widgets/controls",
     "model_module_version": "1.5.0",
     "model_name": "HBoxModel",
     "state": {
      "_dom_classes": [],
      "_model_module": "@jupyter-widgets/controls",
      "_model_module_version": "1.5.0",
      "_model_name": "HBoxModel",
      "_view_count": null,
      "_view_module": "@jupyter-widgets/controls",
      "_view_module_version": "1.5.0",
      "_view_name": "HBoxView",
      "box_style": "",
      "children": [
       "IPY_MODEL_5009016cb6b546b69c81f00f2b0f4956",
       "IPY_MODEL_5902369f0757483dafed2ee0e702a28b",
       "IPY_MODEL_a919b905902b4d9992479de0a4af4e9b"
      ],
      "layout": "IPY_MODEL_400fa87026914a8eac95c486964aa2b1"
     }
    },
    "5902369f0757483dafed2ee0e702a28b": {
     "model_module": "@jupyter-widgets/controls",
     "model_module_version": "1.5.0",
     "model_name": "FloatProgressModel",
     "state": {
      "_dom_classes": [],
      "_model_module": "@jupyter-widgets/controls",
      "_model_module_version": "1.5.0",
      "_model_name": "FloatProgressModel",
      "_view_count": null,
      "_view_module": "@jupyter-widgets/controls",
      "_view_module_version": "1.5.0",
      "_view_name": "ProgressView",
      "bar_style": "success",
      "description": "",
      "description_tooltip": null,
      "layout": "IPY_MODEL_f914a18c2dff4809bf67e0bd55b9c740",
      "max": 2563370,
      "min": 0,
      "orientation": "horizontal",
      "style": "IPY_MODEL_54d805e1cc2f4cfe929d540fe2dd66e4",
      "value": 2563370
     }
    },
    "5dcbff8be87b448a90887a53ec671cfc": {
     "model_module": "@jupyter-widgets/base",
     "model_module_version": "1.2.0",
     "model_name": "LayoutModel",
     "state": {
      "_model_module": "@jupyter-widgets/base",
      "_model_module_version": "1.2.0",
      "_model_name": "LayoutModel",
      "_view_count": null,
      "_view_module": "@jupyter-widgets/base",
      "_view_module_version": "1.2.0",
      "_view_name": "LayoutView",
      "align_content": null,
      "align_items": null,
      "align_self": null,
      "border": null,
      "bottom": null,
      "display": null,
      "flex": null,
      "flex_flow": null,
      "grid_area": null,
      "grid_auto_columns": null,
      "grid_auto_flow": null,
      "grid_auto_rows": null,
      "grid_column": null,
      "grid_gap": null,
      "grid_row": null,
      "grid_template_areas": null,
      "grid_template_columns": null,
      "grid_template_rows": null,
      "height": null,
      "justify_content": null,
      "justify_items": null,
      "left": null,
      "margin": null,
      "max_height": null,
      "max_width": null,
      "min_height": null,
      "min_width": null,
      "object_fit": null,
      "object_position": null,
      "order": null,
      "overflow": null,
      "overflow_x": null,
      "overflow_y": null,
      "padding": null,
      "right": null,
      "top": null,
      "visibility": null,
      "width": null
     }
    },
    "5f5049f043fe4d10a21b8c5d76efa358": {
     "model_module": "@jupyter-widgets/base",
     "model_module_version": "1.2.0",
     "model_name": "LayoutModel",
     "state": {
      "_model_module": "@jupyter-widgets/base",
      "_model_module_version": "1.2.0",
      "_model_name": "LayoutModel",
      "_view_count": null,
      "_view_module": "@jupyter-widgets/base",
      "_view_module_version": "1.2.0",
      "_view_name": "LayoutView",
      "align_content": null,
      "align_items": null,
      "align_self": null,
      "border": null,
      "bottom": null,
      "display": null,
      "flex": null,
      "flex_flow": null,
      "grid_area": null,
      "grid_auto_columns": null,
      "grid_auto_flow": null,
      "grid_auto_rows": null,
      "grid_column": null,
      "grid_gap": null,
      "grid_row": null,
      "grid_template_areas": null,
      "grid_template_columns": null,
      "grid_template_rows": null,
      "height": null,
      "justify_content": null,
      "justify_items": null,
      "left": null,
      "margin": null,
      "max_height": null,
      "max_width": null,
      "min_height": null,
      "min_width": null,
      "object_fit": null,
      "object_position": null,
      "order": null,
      "overflow": null,
      "overflow_x": null,
      "overflow_y": null,
      "padding": null,
      "right": null,
      "top": null,
      "visibility": null,
      "width": null
     }
    },
    "5fdf2d6ed05347efa261797c5170e241": {
     "model_module": "@jupyter-widgets/controls",
     "model_module_version": "1.5.0",
     "model_name": "HTMLModel",
     "state": {
      "_dom_classes": [],
      "_model_module": "@jupyter-widgets/controls",
      "_model_module_version": "1.5.0",
      "_model_name": "HTMLModel",
      "_view_count": null,
      "_view_module": "@jupyter-widgets/controls",
      "_view_module_version": "1.5.0",
      "_view_name": "HTMLView",
      "description": "",
      "description_tooltip": null,
      "layout": "IPY_MODEL_6b8369226630480da5818e608c35f586",
      "placeholder": "​",
      "style": "IPY_MODEL_e8495bf48ff447f5a63219b0290ef765",
      "value": "modules.json: 100%"
     }
    },
    "647652586b2e488ba24f99b2c95c0685": {
     "model_module": "@jupyter-widgets/controls",
     "model_module_version": "1.5.0",
     "model_name": "HTMLModel",
     "state": {
      "_dom_classes": [],
      "_model_module": "@jupyter-widgets/controls",
      "_model_module_version": "1.5.0",
      "_model_name": "HTMLModel",
      "_view_count": null,
      "_view_module": "@jupyter-widgets/controls",
      "_view_module_version": "1.5.0",
      "_view_name": "HTMLView",
      "description": "",
      "description_tooltip": null,
      "layout": "IPY_MODEL_3fbfba89c0d249ea9fe8dd65848a61ac",
      "placeholder": "​",
      "style": "IPY_MODEL_c2947284ce8d46b9879eee73a23b3902",
      "value": " 214/214 [00:00&lt;00:00, 18.2kB/s]"
     }
    },
    "66dc7061badb4fa6bb89b9961f2cb580": {
     "model_module": "@jupyter-widgets/controls",
     "model_module_version": "1.5.0",
     "model_name": "ProgressStyleModel",
     "state": {
      "_model_module": "@jupyter-widgets/controls",
      "_model_module_version": "1.5.0",
      "_model_name": "ProgressStyleModel",
      "_view_count": null,
      "_view_module": "@jupyter-widgets/base",
      "_view_module_version": "1.2.0",
      "_view_name": "StyleView",
      "bar_color": null,
      "description_width": ""
     }
    },
    "6980ece35f2245a893e4196313e34854": {
     "model_module": "@jupyter-widgets/base",
     "model_module_version": "1.2.0",
     "model_name": "LayoutModel",
     "state": {
      "_model_module": "@jupyter-widgets/base",
      "_model_module_version": "1.2.0",
      "_model_name": "LayoutModel",
      "_view_count": null,
      "_view_module": "@jupyter-widgets/base",
      "_view_module_version": "1.2.0",
      "_view_name": "LayoutView",
      "align_content": null,
      "align_items": null,
      "align_self": null,
      "border": null,
      "bottom": null,
      "display": null,
      "flex": null,
      "flex_flow": null,
      "grid_area": null,
      "grid_auto_columns": null,
      "grid_auto_flow": null,
      "grid_auto_rows": null,
      "grid_column": null,
      "grid_gap": null,
      "grid_row": null,
      "grid_template_areas": null,
      "grid_template_columns": null,
      "grid_template_rows": null,
      "height": null,
      "justify_content": null,
      "justify_items": null,
      "left": null,
      "margin": null,
      "max_height": null,
      "max_width": null,
      "min_height": null,
      "min_width": null,
      "object_fit": null,
      "object_position": null,
      "order": null,
      "overflow": null,
      "overflow_x": null,
      "overflow_y": null,
      "padding": null,
      "right": null,
      "top": null,
      "visibility": null,
      "width": null
     }
    },
    "6b8369226630480da5818e608c35f586": {
     "model_module": "@jupyter-widgets/base",
     "model_module_version": "1.2.0",
     "model_name": "LayoutModel",
     "state": {
      "_model_module": "@jupyter-widgets/base",
      "_model_module_version": "1.2.0",
      "_model_name": "LayoutModel",
      "_view_count": null,
      "_view_module": "@jupyter-widgets/base",
      "_view_module_version": "1.2.0",
      "_view_name": "LayoutView",
      "align_content": null,
      "align_items": null,
      "align_self": null,
      "border": null,
      "bottom": null,
      "display": null,
      "flex": null,
      "flex_flow": null,
      "grid_area": null,
      "grid_auto_columns": null,
      "grid_auto_flow": null,
      "grid_auto_rows": null,
      "grid_column": null,
      "grid_gap": null,
      "grid_row": null,
      "grid_template_areas": null,
      "grid_template_columns": null,
      "grid_template_rows": null,
      "height": null,
      "justify_content": null,
      "justify_items": null,
      "left": null,
      "margin": null,
      "max_height": null,
      "max_width": null,
      "min_height": null,
      "min_width": null,
      "object_fit": null,
      "object_position": null,
      "order": null,
      "overflow": null,
      "overflow_x": null,
      "overflow_y": null,
      "padding": null,
      "right": null,
      "top": null,
      "visibility": null,
      "width": null
     }
    },
    "81e5dde98a8845c9911ffd33b0ceb870": {
     "model_module": "@jupyter-widgets/base",
     "model_module_version": "1.2.0",
     "model_name": "LayoutModel",
     "state": {
      "_model_module": "@jupyter-widgets/base",
      "_model_module_version": "1.2.0",
      "_model_name": "LayoutModel",
      "_view_count": null,
      "_view_module": "@jupyter-widgets/base",
      "_view_module_version": "1.2.0",
      "_view_name": "LayoutView",
      "align_content": null,
      "align_items": null,
      "align_self": null,
      "border": null,
      "bottom": null,
      "display": null,
      "flex": null,
      "flex_flow": null,
      "grid_area": null,
      "grid_auto_columns": null,
      "grid_auto_flow": null,
      "grid_auto_rows": null,
      "grid_column": null,
      "grid_gap": null,
      "grid_row": null,
      "grid_template_areas": null,
      "grid_template_columns": null,
      "grid_template_rows": null,
      "height": null,
      "justify_content": null,
      "justify_items": null,
      "left": null,
      "margin": null,
      "max_height": null,
      "max_width": null,
      "min_height": null,
      "min_width": null,
      "object_fit": null,
      "object_position": null,
      "order": null,
      "overflow": null,
      "overflow_x": null,
      "overflow_y": null,
      "padding": null,
      "right": null,
      "top": null,
      "visibility": null,
      "width": null
     }
    },
    "863c26f082314e7a88e9a7a92d21b1a1": {
     "model_module": "@jupyter-widgets/base",
     "model_module_version": "1.2.0",
     "model_name": "LayoutModel",
     "state": {
      "_model_module": "@jupyter-widgets/base",
      "_model_module_version": "1.2.0",
      "_model_name": "LayoutModel",
      "_view_count": null,
      "_view_module": "@jupyter-widgets/base",
      "_view_module_version": "1.2.0",
      "_view_name": "LayoutView",
      "align_content": null,
      "align_items": null,
      "align_self": null,
      "border": null,
      "bottom": null,
      "display": null,
      "flex": null,
      "flex_flow": null,
      "grid_area": null,
      "grid_auto_columns": null,
      "grid_auto_flow": null,
      "grid_auto_rows": null,
      "grid_column": null,
      "grid_gap": null,
      "grid_row": null,
      "grid_template_areas": null,
      "grid_template_columns": null,
      "grid_template_rows": null,
      "height": null,
      "justify_content": null,
      "justify_items": null,
      "left": null,
      "margin": null,
      "max_height": null,
      "max_width": null,
      "min_height": null,
      "min_width": null,
      "object_fit": null,
      "object_position": null,
      "order": null,
      "overflow": null,
      "overflow_x": null,
      "overflow_y": null,
      "padding": null,
      "right": null,
      "top": null,
      "visibility": null,
      "width": null
     }
    },
    "9ef6d8274c384db486cd9fe1f264c41d": {
     "model_module": "@jupyter-widgets/controls",
     "model_module_version": "1.5.0",
     "model_name": "HBoxModel",
     "state": {
      "_dom_classes": [],
      "_model_module": "@jupyter-widgets/controls",
      "_model_module_version": "1.5.0",
      "_model_name": "HBoxModel",
      "_view_count": null,
      "_view_module": "@jupyter-widgets/controls",
      "_view_module_version": "1.5.0",
      "_view_name": "HBoxView",
      "box_style": "",
      "children": [
       "IPY_MODEL_0c3fe6ee9b9e42eaa3b3fb4557ab5201",
       "IPY_MODEL_b959c649934e436bac71845354673608",
       "IPY_MODEL_f8ac7101587e4070b2e9a64b2d58d674"
      ],
      "layout": "IPY_MODEL_044ffbb45d7f4102acb17a0a0a8f3779"
     }
    },
    "a24e95c9a8b444c5aa90811517396afe": {
     "model_module": "@jupyter-widgets/controls",
     "model_module_version": "1.5.0",
     "model_name": "FloatProgressModel",
     "state": {
      "_dom_classes": [],
      "_model_module": "@jupyter-widgets/controls",
      "_model_module_version": "1.5.0",
      "_model_name": "FloatProgressModel",
      "_view_count": null,
      "_view_module": "@jupyter-widgets/controls",
      "_view_module_version": "1.5.0",
      "_view_name": "ProgressView",
      "bar_style": "success",
      "description": "",
      "description_tooltip": null,
      "layout": "IPY_MODEL_4387831b514645bfb23b35675e1af2bd",
      "max": 149181,
      "min": 0,
      "orientation": "horizontal",
      "style": "IPY_MODEL_66dc7061badb4fa6bb89b9961f2cb580",
      "value": 149181
     }
    },
    "a919b905902b4d9992479de0a4af4e9b": {
     "model_module": "@jupyter-widgets/controls",
     "model_module_version": "1.5.0",
     "model_name": "HTMLModel",
     "state": {
      "_dom_classes": [],
      "_model_module": "@jupyter-widgets/controls",
      "_model_module_version": "1.5.0",
      "_model_name": "HTMLModel",
      "_view_count": null,
      "_view_module": "@jupyter-widgets/controls",
      "_view_module_version": "1.5.0",
      "_view_name": "HTMLView",
      "description": "",
      "description_tooltip": null,
      "layout": "IPY_MODEL_b19723be903b400ab796999afbf809c4",
      "placeholder": "​",
      "style": "IPY_MODEL_e27b0e247abb406b9c8e311ef37b88a9",
      "value": " 2.56M/2.56M [00:00&lt;00:00, 8.58MB/s]"
     }
    },
    "adbc4b6cdbe4491da6e1cdf362401d5b": {
     "model_module": "@jupyter-widgets/controls",
     "model_module_version": "1.5.0",
     "model_name": "HTMLModel",
     "state": {
      "_dom_classes": [],
      "_model_module": "@jupyter-widgets/controls",
      "_model_module_version": "1.5.0",
      "_model_name": "HTMLModel",
      "_view_count": null,
      "_view_module": "@jupyter-widgets/controls",
      "_view_module_version": "1.5.0",
      "_view_name": "HTMLView",
      "description": "",
      "description_tooltip": null,
      "layout": "IPY_MODEL_4f05246f8d5949628f121672688baba9",
      "placeholder": "​",
      "style": "IPY_MODEL_2a1b27303b094926b6b732a2edd89a91",
      "value": "config_sentence_transformers.json: 100%"
     }
    },
    "b19723be903b400ab796999afbf809c4": {
     "model_module": "@jupyter-widgets/base",
     "model_module_version": "1.2.0",
     "model_name": "LayoutModel",
     "state": {
      "_model_module": "@jupyter-widgets/base",
      "_model_module_version": "1.2.0",
      "_model_name": "LayoutModel",
      "_view_count": null,
      "_view_module": "@jupyter-widgets/base",
      "_view_module_version": "1.2.0",
      "_view_name": "LayoutView",
      "align_content": null,
      "align_items": null,
      "align_self": null,
      "border": null,
      "bottom": null,
      "display": null,
      "flex": null,
      "flex_flow": null,
      "grid_area": null,
      "grid_auto_columns": null,
      "grid_auto_flow": null,
      "grid_auto_rows": null,
      "grid_column": null,
      "grid_gap": null,
      "grid_row": null,
      "grid_template_areas": null,
      "grid_template_columns": null,
      "grid_template_rows": null,
      "height": null,
      "justify_content": null,
      "justify_items": null,
      "left": null,
      "margin": null,
      "max_height": null,
      "max_width": null,
      "min_height": null,
      "min_width": null,
      "object_fit": null,
      "object_position": null,
      "order": null,
      "overflow": null,
      "overflow_x": null,
      "overflow_y": null,
      "padding": null,
      "right": null,
      "top": null,
      "visibility": null,
      "width": null
     }
    },
    "b8e12dd37c3c441bbb8f6aecc7246b9a": {
     "model_module": "@jupyter-widgets/controls",
     "model_module_version": "1.5.0",
     "model_name": "DescriptionStyleModel",
     "state": {
      "_model_module": "@jupyter-widgets/controls",
      "_model_module_version": "1.5.0",
      "_model_name": "DescriptionStyleModel",
      "_view_count": null,
      "_view_module": "@jupyter-widgets/base",
      "_view_module_version": "1.2.0",
      "_view_name": "StyleView",
      "description_width": ""
     }
    },
    "b959c649934e436bac71845354673608": {
     "model_module": "@jupyter-widgets/controls",
     "model_module_version": "1.5.0",
     "model_name": "FloatProgressModel",
     "state": {
      "_dom_classes": [],
      "_model_module": "@jupyter-widgets/controls",
      "_model_module_version": "1.5.0",
      "_model_name": "FloatProgressModel",
      "_view_count": null,
      "_view_module": "@jupyter-widgets/controls",
      "_view_module_version": "1.5.0",
      "_view_name": "ProgressView",
      "bar_style": "success",
      "description": "",
      "description_tooltip": null,
      "layout": "IPY_MODEL_863c26f082314e7a88e9a7a92d21b1a1",
      "max": 433680480,
      "min": 0,
      "orientation": "horizontal",
      "style": "IPY_MODEL_f5fbbff043b2408cbac17e98311b9b11",
      "value": 433680480
     }
    },
    "c2947284ce8d46b9879eee73a23b3902": {
     "model_module": "@jupyter-widgets/controls",
     "model_module_version": "1.5.0",
     "model_name": "DescriptionStyleModel",
     "state": {
      "_model_module": "@jupyter-widgets/controls",
      "_model_module_version": "1.5.0",
      "_model_name": "DescriptionStyleModel",
      "_view_count": null,
      "_view_module": "@jupyter-widgets/base",
      "_view_module_version": "1.2.0",
      "_view_name": "StyleView",
      "description_width": ""
     }
    },
    "d17356c457ca4da99aaf592dc63fb5b4": {
     "model_module": "@jupyter-widgets/controls",
     "model_module_version": "1.5.0",
     "model_name": "ProgressStyleModel",
     "state": {
      "_model_module": "@jupyter-widgets/controls",
      "_model_module_version": "1.5.0",
      "_model_name": "ProgressStyleModel",
      "_view_count": null,
      "_view_module": "@jupyter-widgets/base",
      "_view_module_version": "1.2.0",
      "_view_name": "StyleView",
      "bar_color": null,
      "description_width": ""
     }
    },
    "d4e94d221f1e4a4a99160da096b537c5": {
     "model_module": "@jupyter-widgets/controls",
     "model_module_version": "1.5.0",
     "model_name": "HTMLModel",
     "state": {
      "_dom_classes": [],
      "_model_module": "@jupyter-widgets/controls",
      "_model_module_version": "1.5.0",
      "_model_name": "HTMLModel",
      "_view_count": null,
      "_view_module": "@jupyter-widgets/controls",
      "_view_module_version": "1.5.0",
      "_view_name": "HTMLView",
      "description": "",
      "description_tooltip": null,
      "layout": "IPY_MODEL_1a109626f07e469f9765556118452d24",
      "placeholder": "​",
      "style": "IPY_MODEL_b8e12dd37c3c441bbb8f6aecc7246b9a",
      "value": "README.md: 100%"
     }
    },
    "d9be52c6c8044dbb97f7dd236642b380": {
     "model_module": "@jupyter-widgets/base",
     "model_module_version": "1.2.0",
     "model_name": "LayoutModel",
     "state": {
      "_model_module": "@jupyter-widgets/base",
      "_model_module_version": "1.2.0",
      "_model_name": "LayoutModel",
      "_view_count": null,
      "_view_module": "@jupyter-widgets/base",
      "_view_module_version": "1.2.0",
      "_view_name": "LayoutView",
      "align_content": null,
      "align_items": null,
      "align_self": null,
      "border": null,
      "bottom": null,
      "display": null,
      "flex": null,
      "flex_flow": null,
      "grid_area": null,
      "grid_auto_columns": null,
      "grid_auto_flow": null,
      "grid_auto_rows": null,
      "grid_column": null,
      "grid_gap": null,
      "grid_row": null,
      "grid_template_areas": null,
      "grid_template_columns": null,
      "grid_template_rows": null,
      "height": null,
      "justify_content": null,
      "justify_items": null,
      "left": null,
      "margin": null,
      "max_height": null,
      "max_width": null,
      "min_height": null,
      "min_width": null,
      "object_fit": null,
      "object_position": null,
      "order": null,
      "overflow": null,
      "overflow_x": null,
      "overflow_y": null,
      "padding": null,
      "right": null,
      "top": null,
      "visibility": null,
      "width": null
     }
    },
    "e27b0e247abb406b9c8e311ef37b88a9": {
     "model_module": "@jupyter-widgets/controls",
     "model_module_version": "1.5.0",
     "model_name": "DescriptionStyleModel",
     "state": {
      "_model_module": "@jupyter-widgets/controls",
      "_model_module_version": "1.5.0",
      "_model_name": "DescriptionStyleModel",
      "_view_count": null,
      "_view_module": "@jupyter-widgets/base",
      "_view_module_version": "1.2.0",
      "_view_name": "StyleView",
      "description_width": ""
     }
    },
    "e566bd1a304748be9882252e36f6ed19": {
     "model_module": "@jupyter-widgets/base",
     "model_module_version": "1.2.0",
     "model_name": "LayoutModel",
     "state": {
      "_model_module": "@jupyter-widgets/base",
      "_model_module_version": "1.2.0",
      "_model_name": "LayoutModel",
      "_view_count": null,
      "_view_module": "@jupyter-widgets/base",
      "_view_module_version": "1.2.0",
      "_view_name": "LayoutView",
      "align_content": null,
      "align_items": null,
      "align_self": null,
      "border": null,
      "bottom": null,
      "display": null,
      "flex": null,
      "flex_flow": null,
      "grid_area": null,
      "grid_auto_columns": null,
      "grid_auto_flow": null,
      "grid_auto_rows": null,
      "grid_column": null,
      "grid_gap": null,
      "grid_row": null,
      "grid_template_areas": null,
      "grid_template_columns": null,
      "grid_template_rows": null,
      "height": null,
      "justify_content": null,
      "justify_items": null,
      "left": null,
      "margin": null,
      "max_height": null,
      "max_width": null,
      "min_height": null,
      "min_width": null,
      "object_fit": null,
      "object_position": null,
      "order": null,
      "overflow": null,
      "overflow_x": null,
      "overflow_y": null,
      "padding": null,
      "right": null,
      "top": null,
      "visibility": null,
      "width": null
     }
    },
    "e6f26817151243d0894d0df10955be35": {
     "model_module": "@jupyter-widgets/controls",
     "model_module_version": "1.5.0",
     "model_name": "DescriptionStyleModel",
     "state": {
      "_model_module": "@jupyter-widgets/controls",
      "_model_module_version": "1.5.0",
      "_model_name": "DescriptionStyleModel",
      "_view_count": null,
      "_view_module": "@jupyter-widgets/base",
      "_view_module_version": "1.2.0",
      "_view_name": "StyleView",
      "description_width": ""
     }
    },
    "e8495bf48ff447f5a63219b0290ef765": {
     "model_module": "@jupyter-widgets/controls",
     "model_module_version": "1.5.0",
     "model_name": "DescriptionStyleModel",
     "state": {
      "_model_module": "@jupyter-widgets/controls",
      "_model_module_version": "1.5.0",
      "_model_name": "DescriptionStyleModel",
      "_view_count": null,
      "_view_module": "@jupyter-widgets/base",
      "_view_module_version": "1.2.0",
      "_view_name": "StyleView",
      "description_width": ""
     }
    },
    "f4a83a6da0064305b204aa4a1bd9c86a": {
     "model_module": "@jupyter-widgets/controls",
     "model_module_version": "1.5.0",
     "model_name": "DescriptionStyleModel",
     "state": {
      "_model_module": "@jupyter-widgets/controls",
      "_model_module_version": "1.5.0",
      "_model_name": "DescriptionStyleModel",
      "_view_count": null,
      "_view_module": "@jupyter-widgets/base",
      "_view_module_version": "1.2.0",
      "_view_name": "StyleView",
      "description_width": ""
     }
    },
    "f5fbbff043b2408cbac17e98311b9b11": {
     "model_module": "@jupyter-widgets/controls",
     "model_module_version": "1.5.0",
     "model_name": "ProgressStyleModel",
     "state": {
      "_model_module": "@jupyter-widgets/controls",
      "_model_module_version": "1.5.0",
      "_model_name": "ProgressStyleModel",
      "_view_count": null,
      "_view_module": "@jupyter-widgets/base",
      "_view_module_version": "1.2.0",
      "_view_name": "StyleView",
      "bar_color": null,
      "description_width": ""
     }
    },
    "f722651c79b7482ca1d51727cf7e0f91": {
     "model_module": "@jupyter-widgets/controls",
     "model_module_version": "1.5.0",
     "model_name": "HTMLModel",
     "state": {
      "_dom_classes": [],
      "_model_module": "@jupyter-widgets/controls",
      "_model_module_version": "1.5.0",
      "_model_name": "HTMLModel",
      "_view_count": null,
      "_view_module": "@jupyter-widgets/controls",
      "_view_module_version": "1.5.0",
      "_view_name": "HTMLView",
      "description": "",
      "description_tooltip": null,
      "layout": "IPY_MODEL_81e5dde98a8845c9911ffd33b0ceb870",
      "placeholder": "​",
      "style": "IPY_MODEL_e6f26817151243d0894d0df10955be35",
      "value": " 149k/149k [00:00&lt;00:00, 1.86MB/s]"
     }
    },
    "f8ac7101587e4070b2e9a64b2d58d674": {
     "model_module": "@jupyter-widgets/controls",
     "model_module_version": "1.5.0",
     "model_name": "HTMLModel",
     "state": {
      "_dom_classes": [],
      "_model_module": "@jupyter-widgets/controls",
      "_model_module_version": "1.5.0",
      "_model_name": "HTMLModel",
      "_view_count": null,
      "_view_module": "@jupyter-widgets/controls",
      "_view_module_version": "1.5.0",
      "_view_name": "HTMLView",
      "description": "",
      "description_tooltip": null,
      "layout": "IPY_MODEL_e566bd1a304748be9882252e36f6ed19",
      "placeholder": "​",
      "style": "IPY_MODEL_4cc702d02df546e78b21bb54ddc7c5c6",
      "value": " 434M/434M [00:06&lt;00:00, 67.3MB/s]"
     }
    },
    "f914a18c2dff4809bf67e0bd55b9c740": {
     "model_module": "@jupyter-widgets/base",
     "model_module_version": "1.2.0",
     "model_name": "LayoutModel",
     "state": {
      "_model_module": "@jupyter-widgets/base",
      "_model_module_version": "1.2.0",
      "_model_name": "LayoutModel",
      "_view_count": null,
      "_view_module": "@jupyter-widgets/base",
      "_view_module_version": "1.2.0",
      "_view_name": "LayoutView",
      "align_content": null,
      "align_items": null,
      "align_self": null,
      "border": null,
      "bottom": null,
      "display": null,
      "flex": null,
      "flex_flow": null,
      "grid_area": null,
      "grid_auto_columns": null,
      "grid_auto_flow": null,
      "grid_auto_rows": null,
      "grid_column": null,
      "grid_gap": null,
      "grid_row": null,
      "grid_template_areas": null,
      "grid_template_columns": null,
      "grid_template_rows": null,
      "height": null,
      "justify_content": null,
      "justify_items": null,
      "left": null,
      "margin": null,
      "max_height": null,
      "max_width": null,
      "min_height": null,
      "min_width": null,
      "object_fit": null,
      "object_position": null,
      "order": null,
      "overflow": null,
      "overflow_x": null,
      "overflow_y": null,
      "padding": null,
      "right": null,
      "top": null,
      "visibility": null,
      "width": null
     }
    },
    "ff5391134a674525a1393c24aa6180e6": {
     "model_module": "@jupyter-widgets/controls",
     "model_module_version": "1.5.0",
     "model_name": "DescriptionStyleModel",
     "state": {
      "_model_module": "@jupyter-widgets/controls",
      "_model_module_version": "1.5.0",
      "_model_name": "DescriptionStyleModel",
      "_view_count": null,
      "_view_module": "@jupyter-widgets/base",
      "_view_module_version": "1.2.0",
      "_view_name": "StyleView",
      "description_width": ""
     }
    }
   }
  }
 },
 "nbformat": 4,
 "nbformat_minor": 0
}
